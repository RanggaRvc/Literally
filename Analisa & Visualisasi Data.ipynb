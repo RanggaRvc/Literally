{
 "cells": [
  {
   "cell_type": "markdown",
   "id": "5d475dbe",
   "metadata": {},
   "source": [
    "# Analisa dan Visualisasi Data"
   ]
  },
  {
   "cell_type": "markdown",
   "id": "e8394834",
   "metadata": {},
   "source": [
    "Pada sesi ini kita akan membahas secara detail tentang proses analisa terhadap sebuah dataset(himpunan data),\n",
    "Kemudian membahas juga tentang proses visualisasi data dari dataset tersebut"
   ]
  },
  {
   "cell_type": "markdown",
   "id": "3289a365",
   "metadata": {},
   "source": [
    "# Analisa Data"
   ]
  },
  {
   "cell_type": "markdown",
   "id": "42eef5d8",
   "metadata": {},
   "source": [
    "1. Analisis data adalah proses menganalisis, menginterpretasikan, dan menyusun data untuk mengungkap pola, tren, dan informasi yang relevan.\n",
    "2. Tujuan utama dari analisis data adalah\n",
    "    1. Untuk lebih memahami pola dalam data dan berpotensi membentuk beberapa hipotesis.\n",
    "    2. untuk menghasilkan pemahaman yang lebih baik tentang data\n",
    "    3. membuat keputusan yang lebih baik berdasarkan pemahaman tersebut."
   ]
  },
  {
   "cell_type": "markdown",
   "id": "c36d24d1",
   "metadata": {},
   "source": [
    "# Import Modul"
   ]
  },
  {
   "cell_type": "code",
   "execution_count": 1,
   "id": "b3fc8800",
   "metadata": {},
   "outputs": [],
   "source": [
    "# mengimport paket/modul yang dibutuhkan\n",
    "import pandas as pd\n",
    "import numpy as np\n",
    "import matplotlib.pyplot as plt\n",
    "import matplotlib.ticker as mtick\n",
    "import matplotlib.colors as mcolors\n",
    "import seaborn as sns"
   ]
  },
  {
   "cell_type": "markdown",
   "id": "87bc53ba",
   "metadata": {},
   "source": [
    "## Load Data\n"
   ]
  },
  {
   "cell_type": "code",
   "execution_count": 2,
   "id": "48945e75",
   "metadata": {},
   "outputs": [
    {
     "data": {
      "text/html": [
       "<div>\n",
       "<style scoped>\n",
       "    .dataframe tbody tr th:only-of-type {\n",
       "        vertical-align: middle;\n",
       "    }\n",
       "\n",
       "    .dataframe tbody tr th {\n",
       "        vertical-align: top;\n",
       "    }\n",
       "\n",
       "    .dataframe thead th {\n",
       "        text-align: right;\n",
       "    }\n",
       "</style>\n",
       "<table border=\"1\" class=\"dataframe\">\n",
       "  <thead>\n",
       "    <tr style=\"text-align: right;\">\n",
       "      <th></th>\n",
       "      <th>Nim</th>\n",
       "      <th>Nama</th>\n",
       "      <th>Jenis Kelamin</th>\n",
       "      <th>Usia</th>\n",
       "      <th>Status Bekerja</th>\n",
       "      <th>IPK semester 2</th>\n",
       "      <th>IPK semester 3</th>\n",
       "      <th>IPK semester 4</th>\n",
       "      <th>IPK semester 5</th>\n",
       "      <th>IPK semester 6</th>\n",
       "      <th>IPK semester 7</th>\n",
       "      <th>Lulus Tepat Waktu</th>\n",
       "      <th>Unnamed</th>\n",
       "    </tr>\n",
       "  </thead>\n",
       "  <tbody>\n",
       "    <tr>\n",
       "      <th>0</th>\n",
       "      <td>202001</td>\n",
       "      <td>ABKA ZAILANI</td>\n",
       "      <td>Pria</td>\n",
       "      <td>25</td>\n",
       "      <td>ya</td>\n",
       "      <td>3.45</td>\n",
       "      <td>2.45</td>\n",
       "      <td>2.75</td>\n",
       "      <td>3.00</td>\n",
       "      <td>2.45</td>\n",
       "      <td>3.70</td>\n",
       "      <td>tidak</td>\n",
       "      <td>0.0</td>\n",
       "    </tr>\n",
       "    <tr>\n",
       "      <th>1</th>\n",
       "      <td>202002</td>\n",
       "      <td>ADI YUDHA</td>\n",
       "      <td>Pria</td>\n",
       "      <td>21</td>\n",
       "      <td>tidak</td>\n",
       "      <td>3.45</td>\n",
       "      <td>2.76</td>\n",
       "      <td>2.90</td>\n",
       "      <td>2.45</td>\n",
       "      <td>2.76</td>\n",
       "      <td>3.70</td>\n",
       "      <td>ya</td>\n",
       "      <td>0.0</td>\n",
       "    </tr>\n",
       "    <tr>\n",
       "      <th>2</th>\n",
       "      <td>202003</td>\n",
       "      <td>ALDHI</td>\n",
       "      <td>Pria</td>\n",
       "      <td>22</td>\n",
       "      <td>tidak</td>\n",
       "      <td>3.20</td>\n",
       "      <td>3.00</td>\n",
       "      <td>2.45</td>\n",
       "      <td>2.00</td>\n",
       "      <td>3.00</td>\n",
       "      <td>3.89</td>\n",
       "      <td>ya</td>\n",
       "      <td>0.0</td>\n",
       "    </tr>\n",
       "    <tr>\n",
       "      <th>3</th>\n",
       "      <td>202004</td>\n",
       "      <td>AVRINA NARA EGYTIAN</td>\n",
       "      <td>Wanita</td>\n",
       "      <td>26</td>\n",
       "      <td>tidak</td>\n",
       "      <td>3.61</td>\n",
       "      <td>3.14</td>\n",
       "      <td>2.76</td>\n",
       "      <td>2.70</td>\n",
       "      <td>3.14</td>\n",
       "      <td>2.67</td>\n",
       "      <td>ya</td>\n",
       "      <td>0.0</td>\n",
       "    </tr>\n",
       "    <tr>\n",
       "      <th>4</th>\n",
       "      <td>202005</td>\n",
       "      <td>DODI SETIAWAN</td>\n",
       "      <td>Pria</td>\n",
       "      <td>22</td>\n",
       "      <td>tidak</td>\n",
       "      <td>3.00</td>\n",
       "      <td>2.75</td>\n",
       "      <td>2.12</td>\n",
       "      <td>2.90</td>\n",
       "      <td>2.75</td>\n",
       "      <td>2.89</td>\n",
       "      <td>tidak</td>\n",
       "      <td>NaN</td>\n",
       "    </tr>\n",
       "  </tbody>\n",
       "</table>\n",
       "</div>"
      ],
      "text/plain": [
       "      Nim                 Nama Jenis Kelamin  Usia Status Bekerja  \\\n",
       "0  202001         ABKA ZAILANI          Pria    25             ya   \n",
       "1  202002            ADI YUDHA          Pria    21          tidak   \n",
       "2  202003                ALDHI          Pria    22          tidak   \n",
       "3  202004  AVRINA NARA EGYTIAN        Wanita    26          tidak   \n",
       "4  202005        DODI SETIAWAN          Pria    22          tidak   \n",
       "\n",
       "   IPK semester 2  IPK semester 3  IPK semester 4  IPK semester 5  \\\n",
       "0            3.45            2.45            2.75            3.00   \n",
       "1            3.45            2.76            2.90            2.45   \n",
       "2            3.20            3.00            2.45            2.00   \n",
       "3            3.61            3.14            2.76            2.70   \n",
       "4            3.00            2.75            2.12            2.90   \n",
       "\n",
       "   IPK semester 6  IPK semester 7 Lulus Tepat Waktu  Unnamed  \n",
       "0            2.45            3.70             tidak      0.0  \n",
       "1            2.76            3.70                ya      0.0  \n",
       "2            3.00            3.89                ya      0.0  \n",
       "3            3.14            2.67                ya      0.0  \n",
       "4            2.75            2.89             tidak      NaN  "
      ]
     },
     "execution_count": 2,
     "metadata": {},
     "output_type": "execute_result"
    }
   ],
   "source": [
    "dataset=pd.read_csv('./simpandata/kelulusan-mhs.csv')\n",
    "dataset.head()"
   ]
  },
  {
   "cell_type": "markdown",
   "id": "699dd3dc",
   "metadata": {},
   "source": [
    "## Menampilkan Informasi Data"
   ]
  },
  {
   "cell_type": "markdown",
   "id": "2dee142b",
   "metadata": {},
   "source": [
    "Dilakukan untuk mengetahui informasi didalam dataset terkait dengan feature/atribut/kolom yang ada didalam dataset,\n",
    "terkait dengan nama feature, tipe data sebuah feature dan dimensi dari dataset tersebut"
   ]
  },
  {
   "cell_type": "code",
   "execution_count": 3,
   "id": "f9e7f815",
   "metadata": {},
   "outputs": [
    {
     "name": "stdout",
     "output_type": "stream",
     "text": [
      "<class 'pandas.core.frame.DataFrame'>\n",
      "RangeIndex: 235 entries, 0 to 234\n",
      "Data columns (total 13 columns):\n",
      " #   Column             Non-Null Count  Dtype  \n",
      "---  ------             --------------  -----  \n",
      " 0   Nim                235 non-null    int64  \n",
      " 1   Nama               235 non-null    object \n",
      " 2   Jenis Kelamin      233 non-null    object \n",
      " 3   Usia               235 non-null    int64  \n",
      " 4   Status Bekerja     235 non-null    object \n",
      " 5   IPK semester 2     235 non-null    float64\n",
      " 6   IPK semester 3     235 non-null    float64\n",
      " 7   IPK semester 4     235 non-null    float64\n",
      " 8   IPK semester 5     235 non-null    float64\n",
      " 9   IPK semester 6     235 non-null    float64\n",
      " 10  IPK semester 7     235 non-null    float64\n",
      " 11  Lulus Tepat Waktu  235 non-null    object \n",
      " 12  Unnamed            4 non-null      float64\n",
      "dtypes: float64(7), int64(2), object(4)\n",
      "memory usage: 24.0+ KB\n"
     ]
    }
   ],
   "source": [
    "#melihat informasi dataset\n",
    "dataset.info()"
   ]
  },
  {
   "cell_type": "code",
   "execution_count": 4,
   "id": "47022306",
   "metadata": {},
   "outputs": [
    {
     "data": {
      "text/plain": [
       "(235, 13)"
      ]
     },
     "execution_count": 4,
     "metadata": {},
     "output_type": "execute_result"
    }
   ],
   "source": [
    "# melihat dimensi data\n",
    "dataset.shape"
   ]
  },
  {
   "cell_type": "markdown",
   "id": "a91ca025",
   "metadata": {},
   "source": [
    "### Informasi Dataset\n",
    "\n",
    "Dari proses di atas didapatkan informasi terkait dengan dataset kelulusan mahasiswa, dimana dataset tersebut memiliki\n",
    "dimensi 235 baris data dan 13 kolom, dengan rincian informasi setiap kolom adalah\n",
    "\n",
    "1. Nim 235 non-null int64\n",
    "2. Nama 235 non-null object\n",
    "3. Jenis Kelamin 233 non-null object\n",
    "4. Usia 235 non-null int64\n",
    "5. Status Bekerja 235 non-null object\n",
    "6. IPK semester 2 235 non-null float64\n",
    "7. IPK semester 3 235 non-null float64\n",
    "8. IPK semester 4 235 non-null float64\n",
    "9. IPK semester 5 235 non-null float64\n",
    "10. IPK semester 6 235 non-null float64\n",
    "11. IPK semester 7 235 non-null float64\n",
    "12. Lulus Tepat Waktu 235 non-null object\n",
    "13. Unnamed 4 non-null float64\n",
    "\n",
    "Dari 3 kolom tersebut terdapat 7 kolom dengan tipe data float64, 2 kolom dengan tipe data int64, dan 4 kolom dengan\n",
    "tipe data object"
   ]
  },
  {
   "cell_type": "markdown",
   "id": "d3b5c388",
   "metadata": {},
   "source": [
    "# Statistik Data"
   ]
  },
  {
   "cell_type": "markdown",
   "id": "5d4f3d65",
   "metadata": {},
   "source": [
    "1. Dilakukan untuk mengetahui statistik data untuk setiap kolom yang bersifat numerik\n",
    "2. Lakukan untuk semua kolom/feature yang bersifat numerik\n"
   ]
  },
  {
   "cell_type": "code",
   "execution_count": 5,
   "id": "1193333f",
   "metadata": {},
   "outputs": [
    {
     "data": {
      "text/html": [
       "<div>\n",
       "<style scoped>\n",
       "    .dataframe tbody tr th:only-of-type {\n",
       "        vertical-align: middle;\n",
       "    }\n",
       "\n",
       "    .dataframe tbody tr th {\n",
       "        vertical-align: top;\n",
       "    }\n",
       "\n",
       "    .dataframe thead th {\n",
       "        text-align: right;\n",
       "    }\n",
       "</style>\n",
       "<table border=\"1\" class=\"dataframe\">\n",
       "  <thead>\n",
       "    <tr style=\"text-align: right;\">\n",
       "      <th></th>\n",
       "      <th>Nim</th>\n",
       "      <th>Usia</th>\n",
       "      <th>IPK semester 2</th>\n",
       "      <th>IPK semester 3</th>\n",
       "      <th>IPK semester 4</th>\n",
       "      <th>IPK semester 5</th>\n",
       "      <th>IPK semester 6</th>\n",
       "      <th>IPK semester 7</th>\n",
       "      <th>Unnamed</th>\n",
       "    </tr>\n",
       "  </thead>\n",
       "  <tbody>\n",
       "    <tr>\n",
       "      <th>count</th>\n",
       "      <td>235.000000</td>\n",
       "      <td>235.000000</td>\n",
       "      <td>235.000000</td>\n",
       "      <td>235.000000</td>\n",
       "      <td>235.000000</td>\n",
       "      <td>235.000000</td>\n",
       "      <td>235.000000</td>\n",
       "      <td>235.000000</td>\n",
       "      <td>4.0</td>\n",
       "    </tr>\n",
       "    <tr>\n",
       "      <th>mean</th>\n",
       "      <td>202166.370213</td>\n",
       "      <td>24.842553</td>\n",
       "      <td>2.861617</td>\n",
       "      <td>2.832723</td>\n",
       "      <td>2.824213</td>\n",
       "      <td>2.838596</td>\n",
       "      <td>2.829234</td>\n",
       "      <td>2.862085</td>\n",
       "      <td>0.0</td>\n",
       "    </tr>\n",
       "    <tr>\n",
       "      <th>std</th>\n",
       "      <td>109.361214</td>\n",
       "      <td>3.275899</td>\n",
       "      <td>0.371414</td>\n",
       "      <td>0.346561</td>\n",
       "      <td>0.342830</td>\n",
       "      <td>0.362605</td>\n",
       "      <td>0.345383</td>\n",
       "      <td>0.365007</td>\n",
       "      <td>0.0</td>\n",
       "    </tr>\n",
       "    <tr>\n",
       "      <th>min</th>\n",
       "      <td>202001.000000</td>\n",
       "      <td>21.000000</td>\n",
       "      <td>2.000000</td>\n",
       "      <td>2.000000</td>\n",
       "      <td>2.000000</td>\n",
       "      <td>2.000000</td>\n",
       "      <td>2.000000</td>\n",
       "      <td>2.000000</td>\n",
       "      <td>0.0</td>\n",
       "    </tr>\n",
       "    <tr>\n",
       "      <th>25%</th>\n",
       "      <td>202059.500000</td>\n",
       "      <td>22.000000</td>\n",
       "      <td>2.670000</td>\n",
       "      <td>2.670000</td>\n",
       "      <td>2.685000</td>\n",
       "      <td>2.670000</td>\n",
       "      <td>2.670000</td>\n",
       "      <td>2.670000</td>\n",
       "      <td>0.0</td>\n",
       "    </tr>\n",
       "    <tr>\n",
       "      <th>50%</th>\n",
       "      <td>202208.000000</td>\n",
       "      <td>25.000000</td>\n",
       "      <td>2.900000</td>\n",
       "      <td>2.900000</td>\n",
       "      <td>2.900000</td>\n",
       "      <td>2.900000</td>\n",
       "      <td>2.800000</td>\n",
       "      <td>2.900000</td>\n",
       "      <td>0.0</td>\n",
       "    </tr>\n",
       "    <tr>\n",
       "      <th>75%</th>\n",
       "      <td>202266.500000</td>\n",
       "      <td>28.000000</td>\n",
       "      <td>3.000000</td>\n",
       "      <td>3.000000</td>\n",
       "      <td>3.000000</td>\n",
       "      <td>3.000000</td>\n",
       "      <td>3.000000</td>\n",
       "      <td>3.000000</td>\n",
       "      <td>0.0</td>\n",
       "    </tr>\n",
       "    <tr>\n",
       "      <th>max</th>\n",
       "      <td>202326.000000</td>\n",
       "      <td>31.000000</td>\n",
       "      <td>3.900000</td>\n",
       "      <td>3.780000</td>\n",
       "      <td>3.780000</td>\n",
       "      <td>3.900000</td>\n",
       "      <td>3.780000</td>\n",
       "      <td>3.890000</td>\n",
       "      <td>0.0</td>\n",
       "    </tr>\n",
       "  </tbody>\n",
       "</table>\n",
       "</div>"
      ],
      "text/plain": [
       "                 Nim        Usia  IPK semester 2  IPK semester 3  \\\n",
       "count     235.000000  235.000000      235.000000      235.000000   \n",
       "mean   202166.370213   24.842553        2.861617        2.832723   \n",
       "std       109.361214    3.275899        0.371414        0.346561   \n",
       "min    202001.000000   21.000000        2.000000        2.000000   \n",
       "25%    202059.500000   22.000000        2.670000        2.670000   \n",
       "50%    202208.000000   25.000000        2.900000        2.900000   \n",
       "75%    202266.500000   28.000000        3.000000        3.000000   \n",
       "max    202326.000000   31.000000        3.900000        3.780000   \n",
       "\n",
       "       IPK semester 4  IPK semester 5  IPK semester 6  IPK semester 7  Unnamed  \n",
       "count      235.000000      235.000000      235.000000      235.000000      4.0  \n",
       "mean         2.824213        2.838596        2.829234        2.862085      0.0  \n",
       "std          0.342830        0.362605        0.345383        0.365007      0.0  \n",
       "min          2.000000        2.000000        2.000000        2.000000      0.0  \n",
       "25%          2.685000        2.670000        2.670000        2.670000      0.0  \n",
       "50%          2.900000        2.900000        2.800000        2.900000      0.0  \n",
       "75%          3.000000        3.000000        3.000000        3.000000      0.0  \n",
       "max          3.780000        3.900000        3.780000        3.890000      0.0  "
      ]
     },
     "execution_count": 5,
     "metadata": {},
     "output_type": "execute_result"
    }
   ],
   "source": [
    "#menampilkan Statistik dataset\n",
    "dataset.describe()"
   ]
  },
  {
   "cell_type": "markdown",
   "id": "c0e647cb",
   "metadata": {},
   "source": [
    "# Data Statistik\n",
    "Dari data statistik tersebut kita dapat melihat informasi menyeluruh terhadap semua kolom pada dataset yang bersifat\n",
    "numerik (float & int)\n",
    "informasi statistik tersebut terkait dengan:\n",
    "1. count= jumlah baris data didalam kolom\n",
    "2. mean = jumlah rata-rata setiap kolom\n",
    "3. std = standart deviasi dari setiap kolomnya\n",
    "4. min = nilai terkecil dari setiap kolom\n",
    "5. 25% = nilai quartile 1 dari sebuah kolom\n",
    "6. 50% = nilai quartile 2 dari sebuah kolom\n",
    "7. 75% = nilai quartile 3 dari sebuah kolom\n",
    "8. max = nilai terbesar dari setiap kolom"
   ]
  },
  {
   "cell_type": "markdown",
   "id": "70d0ea34",
   "metadata": {},
   "source": [
    "# Data Statistik Setiap Kolom\n",
    "Dilakukan untuk mengetahui lebih detail terkait dengan data statistik didalam sebuah kolom,\n",
    "Dilakukan secara menyeluruh untuk semua kolom didalam dataset\n"
   ]
  },
  {
   "cell_type": "markdown",
   "id": "92a4a579",
   "metadata": {},
   "source": [
    "1. MENAMPILKAN DATA STATISTIK PADA KOLOM NUMERIK\n"
   ]
  },
  {
   "cell_type": "code",
   "execution_count": 6,
   "id": "3dcf281f",
   "metadata": {},
   "outputs": [
    {
     "data": {
      "text/plain": [
       "count    235.000000\n",
       "mean      24.842553\n",
       "std        3.275899\n",
       "min       21.000000\n",
       "25%       22.000000\n",
       "50%       25.000000\n",
       "75%       28.000000\n",
       "max       31.000000\n",
       "Name: Usia, dtype: float64"
      ]
     },
     "execution_count": 6,
     "metadata": {},
     "output_type": "execute_result"
    }
   ],
   "source": [
    "# Menampilkan Data statistik pada sebuah kolom numerik\n",
    "dataset['Usia'].describe()"
   ]
  },
  {
   "cell_type": "markdown",
   "id": "b8ab9596",
   "metadata": {},
   "source": [
    "Dari data statistik pada kolom usia tersebut didalamkan informasi terkait dengan pola data didalam kolom usia, yaitu:\n",
    "1. Terdapat 235 baris data didalam kolom usia\n",
    "2. Rata-rata usia adalah 24.84\n",
    "3. Dengan standar deviasi sebesar 3.27\n",
    "4. Rentang usia terendah/ minimal adalah 21 tahun\n",
    "5. Rentang nilai terbesar/maksimal adalah 31 tahun\n"
   ]
  },
  {
   "cell_type": "markdown",
   "id": "4c555d57",
   "metadata": {},
   "source": [
    "2. MENAMPILKAN DATA STATISTIK PADA KOLOM KATEGORIKAL"
   ]
  },
  {
   "cell_type": "code",
   "execution_count": 7,
   "id": "218ae1c6",
   "metadata": {},
   "outputs": [
    {
     "data": {
      "text/plain": [
       "count     235\n",
       "unique      2\n",
       "top        ya\n",
       "freq      126\n",
       "Name: Lulus Tepat Waktu, dtype: object"
      ]
     },
     "execution_count": 7,
     "metadata": {},
     "output_type": "execute_result"
    }
   ],
   "source": [
    "# Menampilkan Data statistik pada sebuah kolom Kategorikal\n",
    "dataset['Lulus Tepat Waktu'].describe()"
   ]
  },
  {
   "cell_type": "markdown",
   "id": "e99a928c",
   "metadata": {},
   "source": [
    "Dari data statistik pada kolom Lulus Tepat Waktu(Kelulusan) tersebut didalamkan informasi terkait dengan pola data\n",
    "didalam kolom tersebut, yaitu:\n",
    "1. Terdapat 235 baris data didalam kolom tersebut\n",
    "2. Terdapat 2 tipe kategori didalamnya\n",
    "3. Dimana kategori yang paling banyak adalah kategori ya standar deviasi sebesar 3.27\n",
    "4. Frekuensi Kemunculan kategori ya sebanyak 126 kali dari total 235 baris data\n",
    "\n",
    "NOTED:: lakukan terhadap semua kolom yang bersifat kategorikal..!\n",
    "untuk tipe kategorikal, informasi akan lebih lengkap data jelas, dengan melihat data unik dari setiap kolom dan juga\n",
    "frekuensi kemunculan setiap kategori didalam kolom tersebut"
   ]
  },
  {
   "cell_type": "markdown",
   "id": "908e17ab",
   "metadata": {},
   "source": [
    "# Menampilkan Data Unique\n",
    "dilakukan untuk melihat/menampilkan kategori data yang terdapat pada sebuah kolom/feature yang berifat\n",
    "kategorikal/ordinal.\n",
    "\n",
    "Lakukan untuk semua kolom/feature yang bersifat kategorikal\n"
   ]
  },
  {
   "cell_type": "code",
   "execution_count": 8,
   "id": "c93efdf5",
   "metadata": {},
   "outputs": [
    {
     "data": {
      "text/plain": [
       "array(['tidak', 'ya'], dtype=object)"
      ]
     },
     "execution_count": 8,
     "metadata": {},
     "output_type": "execute_result"
    }
   ],
   "source": [
    "#menampilkan kategori data yang unique(tanpa duplikat)\n",
    "dataset['Lulus Tepat Waktu'].unique()\n"
   ]
  },
  {
   "cell_type": "code",
   "execution_count": 9,
   "id": "5e28ac12",
   "metadata": {},
   "outputs": [
    {
     "data": {
      "text/plain": [
       "array(['ya', 'tidak'], dtype=object)"
      ]
     },
     "execution_count": 9,
     "metadata": {},
     "output_type": "execute_result"
    }
   ],
   "source": [
    "dataset['Status Bekerja'].unique()\n"
   ]
  },
  {
   "cell_type": "markdown",
   "id": "60fa44d4",
   "metadata": {},
   "source": [
    "Dari analisa data diatas dapat dilihat bahwa:\n",
    "1. kolom Lulus Tepat Waktu memiliki 2 kategori yaitu kategori YA (lulus tepat waktu) dan kategori TIDAK (lulus tepat waktu)\n",
    "2. kolom Status Bekerja memiliki 2 kategori yaitu kategori YA (Bekerja) dan kategori TIDAK (Bekerja)\n"
   ]
  },
  {
   "cell_type": "code",
   "execution_count": 10,
   "id": "020c4ca2",
   "metadata": {},
   "outputs": [
    {
     "data": {
      "text/plain": [
       "ya       126\n",
       "tidak    109\n",
       "Name: Lulus Tepat Waktu, dtype: int64"
      ]
     },
     "execution_count": 10,
     "metadata": {},
     "output_type": "execute_result"
    }
   ],
   "source": [
    "#Menampilkan frekuensi kemunculan data pada sebuah kolom\n",
    "dataset['Lulus Tepat Waktu'].value_counts()\n"
   ]
  },
  {
   "cell_type": "markdown",
   "id": "9ce727fb",
   "metadata": {},
   "source": [
    "Dari analisa data pada kolom Lulus Tepat Waktu diatas dapat informasi:\n",
    "1. Dari total 235 baris data, frekuensi kemunculan kategori YA (lulus tepat waktu) sebanyak 126 data dan untuk kategori\n",
    "TIDAK (lulus tepat waktu) sebanyak 109 data"
   ]
  },
  {
   "cell_type": "code",
   "execution_count": 11,
   "id": "6064322c",
   "metadata": {},
   "outputs": [
    {
     "data": {
      "text/plain": [
       "21    56\n",
       "22    41\n",
       "28    30\n",
       "26    24\n",
       "30    24\n",
       "27    20\n",
       "25    14\n",
       "24    10\n",
       "29     9\n",
       "23     4\n",
       "31     3\n",
       "Name: Usia, dtype: int64"
      ]
     },
     "execution_count": 11,
     "metadata": {},
     "output_type": "execute_result"
    }
   ],
   "source": [
    "dataset['Usia'].value_counts()\n"
   ]
  },
  {
   "cell_type": "markdown",
   "id": "7b01945f",
   "metadata": {},
   "source": [
    "Dari analisa data pada kolom Usia diatas dapat informasi:\n",
    "\n",
    "Dari total 235 baris data\n",
    "1. terdapat mahasiswa dengan usia 21 tahun sebanyak 56 orang (data)\n",
    "2. terdapat mahasiswa dengan usia 22 tahun sebanyak 41 orang (data)\n",
    "3. terdapat mahasiswa dengan usia 28 tahun sebanyak 30 orang (data)\n",
    "4. terdapat mahasiswa dengan usia 26 tahun sebanyak 24 orang (data)\n",
    "5. terdapat mahasiswa dengan usia 30 tahun sebanyak 24 orang (data)\n",
    "6. terdapat mahasiswa dengan usia 27 tahun sebanyak 20 orang (data)\n",
    "7. terdapat mahasiswa dengan usia 25 tahun sebanyak 14 orang (data)\n",
    "8. terdapat mahasiswa dengan usia 24 tahun sebanyak 10 orang (data)\n",
    "9. terdapat mahasiswa dengan usia 29 tahun sebanyak 9 orang (data)\n",
    "10. terdapat mahasiswa dengan usia 23 tahun sebanyak 4 orang (data)\n",
    "11. terdapat mahasiswa dengan usia 31 tahun sebanyak 3 orang (data)\n"
   ]
  },
  {
   "cell_type": "markdown",
   "id": "ec460725",
   "metadata": {},
   "source": [
    "### Berdasarkan Analisa di atas\n",
    "\n",
    "Didapatkan informasi bahwa, dataset ini terdiri dari 235 baris(data) dan 12 kolom yang berisi informasi mahasiswa,\n",
    "termasuk kolom label/class/target \"Lulus Tepat Waktu\" yang menunjukkan apakah mahasiswa tersebut berhasil lulus\n",
    "tepat waktu atau tidak. lebih detail informasi terkait dataset ini, adalah sebagai berikut:\n",
    "1. Nim : ID unik untuk setiap mahasiswa\n",
    "2. Nama : nama dari setiap mahasiswa terdaftar\n",
    "3. gender : Jenis kelamin mahasiswa (Pria/Wanita)\n",
    "4. Usia : Menunjukkan usia setiap mahasiswa dalam satuan tahun(min = 21 tahun, mak=31 tahun)\n",
    "5. Status Bekerja : Menunjukkan apakah mahasiswa memiliki status bekerja (Ya, tidak)\n",
    "6. IPK semester2 : Menunjukkan nilai IPK setiap mahasiswa disemester 2\n",
    "7. IPK semester3 : Menunjukkan nilai IPK setiap mahasiswa disemester 3\n",
    "8. IPK semester4 : Menunjukkan nilai IPK setiap mahasiswa disemester 4\n",
    "9. IPK semester5 : Menunjukkan nilai IPK setiap mahasiswa disemester 5\n",
    "10. IPK semester6 : Menunjukkan nilai IPK setiap mahasiswa disemester 6\n",
    "11. lulus tepat waktu : Menunjukkan apakah lulus tepat waktu atau tidak (Ya, tidak)\n",
    "12. Unnamed : kolom ini merupakan sebuah kolom yang tidak valid/kesalahan\n"
   ]
  },
  {
   "cell_type": "markdown",
   "id": "d8c2d3d3",
   "metadata": {},
   "source": [
    "### Uraikan Detail Satistik dan Frekuensi Kemunculan Data pada setiap kolom/feature\n",
    "dari dataset diatas, dapat diketahui bahwa untuk menentukan mahasiswa dapat lulus tepat waktu atau tidak, dapat di\n",
    "pengaruhi oleh\n",
    "NOTED :: LAKUKAN URAIKAN SECARA DETAIL TENTANG KOLOM BERIKUT INI TERKAIT DENGAN FREKUENSI\n",
    "KEMUNCULAN SETIAP NILAI?KATEGORI DISETIAP KOLOM TERSEBUT....!!!\n",
    "1. gender : Jenis kelamin mahasiswa (Pria/Wanita)\n",
    "2. Usia : Menunjukkan usia setiap mahasiswa dalam satuan tahun(min = 21 tahun, mak=31 tahun)\n",
    "3. Status Bekerja : Menunjukkan apakah mahasiswa memiliki status bekerja (Ya, tidak)\n",
    "4. IPK semester2 : Menunjukkan nilai IPK setiap mahasiswa disemester 2\n",
    "5. IPK semester3 : Menunjukkan nilai IPK setiap mahasiswa disemester 3\n",
    "6. IPK semester4 : Menunjukkan nilai IPK setiap mahasiswa disemester 4\n",
    "7. IPK semester5 : Menunjukkan nilai IPK setiap mahasiswa disemester 5\n",
    "8. IPK semester6 : Menunjukkan nilai IPK setiap mahasiswa disemester 6\n",
    "9. lulus tepat waktu : Menunjukkan apakah lulus tepat waktu atau tidak (Ya, tidak)\n"
   ]
  },
  {
   "cell_type": "markdown",
   "id": "1f953014",
   "metadata": {},
   "source": [
    "# PreProcessing Data\n",
    "1. menghapus kolom yang tidak di perlukan\n",
    "2. menghapus Missing Value & Outlier\n",
    "3. menghapus duplikat data\n"
   ]
  },
  {
   "cell_type": "markdown",
   "id": "148d13b2",
   "metadata": {},
   "source": [
    "#### 1. Menghapus Kolom\n",
    "Dari info diatas terlihat bahwa terdapat kolom tanpa nama/unnamed dengan tipe data float64,\n",
    "kolom/feature tersebut merupakan kolom yang biasanya tercipta dari kesalahan penyimpanan ataupun kesalahan input,\n",
    "kolom/feature tersebut harus dihapus dari dataframe yang akan digunakan"
   ]
  },
  {
   "cell_type": "code",
   "execution_count": 12,
   "id": "98ab963c",
   "metadata": {},
   "outputs": [
    {
     "name": "stdout",
     "output_type": "stream",
     "text": [
      "<class 'pandas.core.frame.DataFrame'>\n",
      "RangeIndex: 235 entries, 0 to 234\n",
      "Data columns (total 13 columns):\n",
      " #   Column             Non-Null Count  Dtype  \n",
      "---  ------             --------------  -----  \n",
      " 0   Nim                235 non-null    int64  \n",
      " 1   Nama               235 non-null    object \n",
      " 2   Jenis Kelamin      233 non-null    object \n",
      " 3   Usia               235 non-null    int64  \n",
      " 4   Status Bekerja     235 non-null    object \n",
      " 5   IPK semester 2     235 non-null    float64\n",
      " 6   IPK semester 3     235 non-null    float64\n",
      " 7   IPK semester 4     235 non-null    float64\n",
      " 8   IPK semester 5     235 non-null    float64\n",
      " 9   IPK semester 6     235 non-null    float64\n",
      " 10  IPK semester 7     235 non-null    float64\n",
      " 11  Lulus Tepat Waktu  235 non-null    object \n",
      " 12  Unnamed            4 non-null      float64\n",
      "dtypes: float64(7), int64(2), object(4)\n",
      "memory usage: 24.0+ KB\n"
     ]
    }
   ],
   "source": [
    "dataset.info()"
   ]
  },
  {
   "cell_type": "code",
   "execution_count": 13,
   "id": "29672c62",
   "metadata": {},
   "outputs": [],
   "source": [
    "# menghapus kolom yang tidak diperlukan"
   ]
  },
  {
   "cell_type": "code",
   "execution_count": 14,
   "id": "104e5b4a",
   "metadata": {},
   "outputs": [
    {
     "data": {
      "text/html": [
       "<div>\n",
       "<style scoped>\n",
       "    .dataframe tbody tr th:only-of-type {\n",
       "        vertical-align: middle;\n",
       "    }\n",
       "\n",
       "    .dataframe tbody tr th {\n",
       "        vertical-align: top;\n",
       "    }\n",
       "\n",
       "    .dataframe thead th {\n",
       "        text-align: right;\n",
       "    }\n",
       "</style>\n",
       "<table border=\"1\" class=\"dataframe\">\n",
       "  <thead>\n",
       "    <tr style=\"text-align: right;\">\n",
       "      <th></th>\n",
       "      <th>Nim</th>\n",
       "      <th>Nama</th>\n",
       "      <th>Jenis Kelamin</th>\n",
       "      <th>Usia</th>\n",
       "      <th>Status Bekerja</th>\n",
       "      <th>IPK semester 2</th>\n",
       "      <th>IPK semester 3</th>\n",
       "      <th>IPK semester 4</th>\n",
       "      <th>IPK semester 5</th>\n",
       "      <th>IPK semester 6</th>\n",
       "      <th>IPK semester 7</th>\n",
       "      <th>Lulus Tepat Waktu</th>\n",
       "    </tr>\n",
       "  </thead>\n",
       "  <tbody>\n",
       "    <tr>\n",
       "      <th>0</th>\n",
       "      <td>202001</td>\n",
       "      <td>ABKA ZAILANI</td>\n",
       "      <td>Pria</td>\n",
       "      <td>25</td>\n",
       "      <td>ya</td>\n",
       "      <td>3.45</td>\n",
       "      <td>2.45</td>\n",
       "      <td>2.75</td>\n",
       "      <td>3.00</td>\n",
       "      <td>2.45</td>\n",
       "      <td>3.70</td>\n",
       "      <td>tidak</td>\n",
       "    </tr>\n",
       "    <tr>\n",
       "      <th>1</th>\n",
       "      <td>202002</td>\n",
       "      <td>ADI YUDHA</td>\n",
       "      <td>Pria</td>\n",
       "      <td>21</td>\n",
       "      <td>tidak</td>\n",
       "      <td>3.45</td>\n",
       "      <td>2.76</td>\n",
       "      <td>2.90</td>\n",
       "      <td>2.45</td>\n",
       "      <td>2.76</td>\n",
       "      <td>3.70</td>\n",
       "      <td>ya</td>\n",
       "    </tr>\n",
       "    <tr>\n",
       "      <th>2</th>\n",
       "      <td>202003</td>\n",
       "      <td>ALDHI</td>\n",
       "      <td>Pria</td>\n",
       "      <td>22</td>\n",
       "      <td>tidak</td>\n",
       "      <td>3.20</td>\n",
       "      <td>3.00</td>\n",
       "      <td>2.45</td>\n",
       "      <td>2.00</td>\n",
       "      <td>3.00</td>\n",
       "      <td>3.89</td>\n",
       "      <td>ya</td>\n",
       "    </tr>\n",
       "    <tr>\n",
       "      <th>3</th>\n",
       "      <td>202004</td>\n",
       "      <td>AVRINA NARA EGYTIAN</td>\n",
       "      <td>Wanita</td>\n",
       "      <td>26</td>\n",
       "      <td>tidak</td>\n",
       "      <td>3.61</td>\n",
       "      <td>3.14</td>\n",
       "      <td>2.76</td>\n",
       "      <td>2.70</td>\n",
       "      <td>3.14</td>\n",
       "      <td>2.67</td>\n",
       "      <td>ya</td>\n",
       "    </tr>\n",
       "    <tr>\n",
       "      <th>4</th>\n",
       "      <td>202005</td>\n",
       "      <td>DODI SETIAWAN</td>\n",
       "      <td>Pria</td>\n",
       "      <td>22</td>\n",
       "      <td>tidak</td>\n",
       "      <td>3.00</td>\n",
       "      <td>2.75</td>\n",
       "      <td>2.12</td>\n",
       "      <td>2.90</td>\n",
       "      <td>2.75</td>\n",
       "      <td>2.89</td>\n",
       "      <td>tidak</td>\n",
       "    </tr>\n",
       "  </tbody>\n",
       "</table>\n",
       "</div>"
      ],
      "text/plain": [
       "      Nim                 Nama Jenis Kelamin  Usia Status Bekerja  \\\n",
       "0  202001         ABKA ZAILANI          Pria    25             ya   \n",
       "1  202002            ADI YUDHA          Pria    21          tidak   \n",
       "2  202003                ALDHI          Pria    22          tidak   \n",
       "3  202004  AVRINA NARA EGYTIAN        Wanita    26          tidak   \n",
       "4  202005        DODI SETIAWAN          Pria    22          tidak   \n",
       "\n",
       "   IPK semester 2  IPK semester 3  IPK semester 4  IPK semester 5  \\\n",
       "0            3.45            2.45            2.75            3.00   \n",
       "1            3.45            2.76            2.90            2.45   \n",
       "2            3.20            3.00            2.45            2.00   \n",
       "3            3.61            3.14            2.76            2.70   \n",
       "4            3.00            2.75            2.12            2.90   \n",
       "\n",
       "   IPK semester 6  IPK semester 7 Lulus Tepat Waktu  \n",
       "0            2.45            3.70             tidak  \n",
       "1            2.76            3.70                ya  \n",
       "2            3.00            3.89                ya  \n",
       "3            3.14            2.67                ya  \n",
       "4            2.75            2.89             tidak  "
      ]
     },
     "execution_count": 14,
     "metadata": {},
     "output_type": "execute_result"
    }
   ],
   "source": [
    "df = dataset.drop('Unnamed', axis=1)\n",
    "df.head()"
   ]
  },
  {
   "cell_type": "markdown",
   "id": "7a67decb",
   "metadata": {},
   "source": [
    "#### 2. Mengecek dan Menghapus Missing Value\n",
    "1. Merupakan data-data yang tidak memiliki nilai (tidak tersedia nilainya- not available(NaN))\n",
    "2. Biasa terjadi akibat adanya kesalahan input, cacat software ataupun gangguan jaringan\n",
    "3. Biasa terjadi pada tipe data numerik dan kategori(nominal)"
   ]
  },
  {
   "cell_type": "code",
   "execution_count": 15,
   "id": "d9d5d39c",
   "metadata": {},
   "outputs": [
    {
     "data": {
      "text/html": [
       "<div>\n",
       "<style scoped>\n",
       "    .dataframe tbody tr th:only-of-type {\n",
       "        vertical-align: middle;\n",
       "    }\n",
       "\n",
       "    .dataframe tbody tr th {\n",
       "        vertical-align: top;\n",
       "    }\n",
       "\n",
       "    .dataframe thead th {\n",
       "        text-align: right;\n",
       "    }\n",
       "</style>\n",
       "<table border=\"1\" class=\"dataframe\">\n",
       "  <thead>\n",
       "    <tr style=\"text-align: right;\">\n",
       "      <th></th>\n",
       "      <th>Nim</th>\n",
       "      <th>Nama</th>\n",
       "      <th>Jenis Kelamin</th>\n",
       "      <th>Usia</th>\n",
       "      <th>Status Bekerja</th>\n",
       "      <th>IPK semester 2</th>\n",
       "      <th>IPK semester 3</th>\n",
       "      <th>IPK semester 4</th>\n",
       "      <th>IPK semester 5</th>\n",
       "      <th>IPK semester 6</th>\n",
       "      <th>IPK semester 7</th>\n",
       "      <th>Lulus Tepat Waktu</th>\n",
       "    </tr>\n",
       "  </thead>\n",
       "  <tbody>\n",
       "    <tr>\n",
       "      <th>0</th>\n",
       "      <td>False</td>\n",
       "      <td>False</td>\n",
       "      <td>False</td>\n",
       "      <td>False</td>\n",
       "      <td>False</td>\n",
       "      <td>False</td>\n",
       "      <td>False</td>\n",
       "      <td>False</td>\n",
       "      <td>False</td>\n",
       "      <td>False</td>\n",
       "      <td>False</td>\n",
       "      <td>False</td>\n",
       "    </tr>\n",
       "    <tr>\n",
       "      <th>1</th>\n",
       "      <td>False</td>\n",
       "      <td>False</td>\n",
       "      <td>False</td>\n",
       "      <td>False</td>\n",
       "      <td>False</td>\n",
       "      <td>False</td>\n",
       "      <td>False</td>\n",
       "      <td>False</td>\n",
       "      <td>False</td>\n",
       "      <td>False</td>\n",
       "      <td>False</td>\n",
       "      <td>False</td>\n",
       "    </tr>\n",
       "    <tr>\n",
       "      <th>2</th>\n",
       "      <td>False</td>\n",
       "      <td>False</td>\n",
       "      <td>False</td>\n",
       "      <td>False</td>\n",
       "      <td>False</td>\n",
       "      <td>False</td>\n",
       "      <td>False</td>\n",
       "      <td>False</td>\n",
       "      <td>False</td>\n",
       "      <td>False</td>\n",
       "      <td>False</td>\n",
       "      <td>False</td>\n",
       "    </tr>\n",
       "    <tr>\n",
       "      <th>3</th>\n",
       "      <td>False</td>\n",
       "      <td>False</td>\n",
       "      <td>False</td>\n",
       "      <td>False</td>\n",
       "      <td>False</td>\n",
       "      <td>False</td>\n",
       "      <td>False</td>\n",
       "      <td>False</td>\n",
       "      <td>False</td>\n",
       "      <td>False</td>\n",
       "      <td>False</td>\n",
       "      <td>False</td>\n",
       "    </tr>\n",
       "    <tr>\n",
       "      <th>4</th>\n",
       "      <td>False</td>\n",
       "      <td>False</td>\n",
       "      <td>False</td>\n",
       "      <td>False</td>\n",
       "      <td>False</td>\n",
       "      <td>False</td>\n",
       "      <td>False</td>\n",
       "      <td>False</td>\n",
       "      <td>False</td>\n",
       "      <td>False</td>\n",
       "      <td>False</td>\n",
       "      <td>False</td>\n",
       "    </tr>\n",
       "    <tr>\n",
       "      <th>...</th>\n",
       "      <td>...</td>\n",
       "      <td>...</td>\n",
       "      <td>...</td>\n",
       "      <td>...</td>\n",
       "      <td>...</td>\n",
       "      <td>...</td>\n",
       "      <td>...</td>\n",
       "      <td>...</td>\n",
       "      <td>...</td>\n",
       "      <td>...</td>\n",
       "      <td>...</td>\n",
       "      <td>...</td>\n",
       "    </tr>\n",
       "    <tr>\n",
       "      <th>230</th>\n",
       "      <td>False</td>\n",
       "      <td>False</td>\n",
       "      <td>False</td>\n",
       "      <td>False</td>\n",
       "      <td>False</td>\n",
       "      <td>False</td>\n",
       "      <td>False</td>\n",
       "      <td>False</td>\n",
       "      <td>False</td>\n",
       "      <td>False</td>\n",
       "      <td>False</td>\n",
       "      <td>False</td>\n",
       "    </tr>\n",
       "    <tr>\n",
       "      <th>231</th>\n",
       "      <td>False</td>\n",
       "      <td>False</td>\n",
       "      <td>False</td>\n",
       "      <td>False</td>\n",
       "      <td>False</td>\n",
       "      <td>False</td>\n",
       "      <td>False</td>\n",
       "      <td>False</td>\n",
       "      <td>False</td>\n",
       "      <td>False</td>\n",
       "      <td>False</td>\n",
       "      <td>False</td>\n",
       "    </tr>\n",
       "    <tr>\n",
       "      <th>232</th>\n",
       "      <td>False</td>\n",
       "      <td>False</td>\n",
       "      <td>False</td>\n",
       "      <td>False</td>\n",
       "      <td>False</td>\n",
       "      <td>False</td>\n",
       "      <td>False</td>\n",
       "      <td>False</td>\n",
       "      <td>False</td>\n",
       "      <td>False</td>\n",
       "      <td>False</td>\n",
       "      <td>False</td>\n",
       "    </tr>\n",
       "    <tr>\n",
       "      <th>233</th>\n",
       "      <td>False</td>\n",
       "      <td>False</td>\n",
       "      <td>False</td>\n",
       "      <td>False</td>\n",
       "      <td>False</td>\n",
       "      <td>False</td>\n",
       "      <td>False</td>\n",
       "      <td>False</td>\n",
       "      <td>False</td>\n",
       "      <td>False</td>\n",
       "      <td>False</td>\n",
       "      <td>False</td>\n",
       "    </tr>\n",
       "    <tr>\n",
       "      <th>234</th>\n",
       "      <td>False</td>\n",
       "      <td>False</td>\n",
       "      <td>False</td>\n",
       "      <td>False</td>\n",
       "      <td>False</td>\n",
       "      <td>False</td>\n",
       "      <td>False</td>\n",
       "      <td>False</td>\n",
       "      <td>False</td>\n",
       "      <td>False</td>\n",
       "      <td>False</td>\n",
       "      <td>False</td>\n",
       "    </tr>\n",
       "  </tbody>\n",
       "</table>\n",
       "<p>235 rows × 12 columns</p>\n",
       "</div>"
      ],
      "text/plain": [
       "       Nim   Nama  Jenis Kelamin   Usia  Status Bekerja  IPK semester 2  \\\n",
       "0    False  False          False  False           False           False   \n",
       "1    False  False          False  False           False           False   \n",
       "2    False  False          False  False           False           False   \n",
       "3    False  False          False  False           False           False   \n",
       "4    False  False          False  False           False           False   \n",
       "..     ...    ...            ...    ...             ...             ...   \n",
       "230  False  False          False  False           False           False   \n",
       "231  False  False          False  False           False           False   \n",
       "232  False  False          False  False           False           False   \n",
       "233  False  False          False  False           False           False   \n",
       "234  False  False          False  False           False           False   \n",
       "\n",
       "     IPK semester 3  IPK semester 4  IPK semester 5  IPK semester 6  \\\n",
       "0             False           False           False           False   \n",
       "1             False           False           False           False   \n",
       "2             False           False           False           False   \n",
       "3             False           False           False           False   \n",
       "4             False           False           False           False   \n",
       "..              ...             ...             ...             ...   \n",
       "230           False           False           False           False   \n",
       "231           False           False           False           False   \n",
       "232           False           False           False           False   \n",
       "233           False           False           False           False   \n",
       "234           False           False           False           False   \n",
       "\n",
       "     IPK semester 7  Lulus Tepat Waktu  \n",
       "0             False              False  \n",
       "1             False              False  \n",
       "2             False              False  \n",
       "3             False              False  \n",
       "4             False              False  \n",
       "..              ...                ...  \n",
       "230           False              False  \n",
       "231           False              False  \n",
       "232           False              False  \n",
       "233           False              False  \n",
       "234           False              False  \n",
       "\n",
       "[235 rows x 12 columns]"
      ]
     },
     "execution_count": 15,
     "metadata": {},
     "output_type": "execute_result"
    }
   ],
   "source": [
    "# Cek Missing Value\n",
    "pd.isna(df)\n"
   ]
  },
  {
   "cell_type": "code",
   "execution_count": 16,
   "id": "8af0a4f6",
   "metadata": {},
   "outputs": [
    {
     "data": {
      "text/plain": [
       "0"
      ]
     },
     "execution_count": 16,
     "metadata": {},
     "output_type": "execute_result"
    }
   ],
   "source": [
    "pd.isna(df['Nama']).sum()#Cek Missing Value"
   ]
  },
  {
   "cell_type": "markdown",
   "id": "5be95f8e",
   "metadata": {},
   "source": [
    "Dari dataset tersebut terlihat bahwa dataset tersebut tidak terdapat data yang Missing Value\n"
   ]
  },
  {
   "cell_type": "markdown",
   "id": "fa350f8a",
   "metadata": {},
   "source": [
    "#### 2. Mengecek dan Menghapus data Outlier\n",
    "\n",
    "1. Outlier merupakan nilai yang tidak lazim atau tidak logis,\n",
    "2. Biasa terjadi akibat adanya kesalahan input, cacat software ataupun gangguan jaringan\n",
    "3. Biasa terjadi pada tipe data numerik dan kategori(nominal)\n",
    "4. Dalam hal penanganannya utamakan kemampuan logika berpikir & analisa dasar, perhatikan bagian nilai minimum dan nilai maksimum suatu feature/kolom\n"
   ]
  },
  {
   "cell_type": "code",
   "execution_count": 17,
   "id": "ba5fa22f",
   "metadata": {},
   "outputs": [
    {
     "name": "stdout",
     "output_type": "stream",
     "text": [
      "21.0\n",
      "27.0\n",
      "12.0\n",
      "36.0\n"
     ]
    },
    {
     "data": {
      "text/html": [
       "<div>\n",
       "<style scoped>\n",
       "    .dataframe tbody tr th:only-of-type {\n",
       "        vertical-align: middle;\n",
       "    }\n",
       "\n",
       "    .dataframe tbody tr th {\n",
       "        vertical-align: top;\n",
       "    }\n",
       "\n",
       "    .dataframe thead th {\n",
       "        text-align: right;\n",
       "    }\n",
       "</style>\n",
       "<table border=\"1\" class=\"dataframe\">\n",
       "  <thead>\n",
       "    <tr style=\"text-align: right;\">\n",
       "      <th></th>\n",
       "      <th>Nim</th>\n",
       "      <th>Nama</th>\n",
       "      <th>Jenis Kelamin</th>\n",
       "      <th>Usia</th>\n",
       "      <th>Status Bekerja</th>\n",
       "      <th>IPK semester 2</th>\n",
       "      <th>IPK semester 3</th>\n",
       "      <th>IPK semester 4</th>\n",
       "      <th>IPK semester 5</th>\n",
       "      <th>IPK semester 6</th>\n",
       "      <th>IPK semester 7</th>\n",
       "      <th>Lulus Tepat Waktu</th>\n",
       "    </tr>\n",
       "  </thead>\n",
       "  <tbody>\n",
       "  </tbody>\n",
       "</table>\n",
       "</div>"
      ],
      "text/plain": [
       "Empty DataFrame\n",
       "Columns: [Nim, Nama, Jenis Kelamin, Usia, Status Bekerja, IPK semester 2, IPK semester 3, IPK semester 4, IPK semester 5, IPK semester 6, IPK semester 7, Lulus Tepat Waktu]\n",
       "Index: []"
      ]
     },
     "execution_count": 17,
     "metadata": {},
     "output_type": "execute_result"
    }
   ],
   "source": [
    "#Dengan menggunakan inter quartil rate\n",
    "q1 = df[\"Usia\"].quantile(0.05)\n",
    "q3 = df[\"Usia\"].quantile(0.65)\n",
    "print(q1)\n",
    "print(q3)\n",
    "iqr = q3-q1 #Interquartile range\n",
    "fence_low = q1-1.5*iqr\n",
    "print(fence_low)\n",
    "fence_high = q3+1.5*iqr\n",
    "print(fence_high)\n",
    "df.loc[(df[\"Usia\"] < fence_low) | (df[\"Usia\"] > fence_high)]"
   ]
  },
  {
   "cell_type": "markdown",
   "id": "8a01a132",
   "metadata": {},
   "source": [
    "#### 3. Mengecek dan Menghapus Duplikat Data\n",
    "1. Merupakan Data yang rangkap atau ddouble didalam sebuah kolom\n",
    "2. Biasa terjadi akibat adanya kesalahan input, cacat software ataupun gangguan jaringan\n",
    "3. Biasa terjadi pada tipe data numerik dan kategori(nominal)\n"
   ]
  },
  {
   "cell_type": "code",
   "execution_count": 18,
   "id": "0132644f",
   "metadata": {},
   "outputs": [
    {
     "data": {
      "text/plain": [
       "0"
      ]
     },
     "execution_count": 18,
     "metadata": {},
     "output_type": "execute_result"
    }
   ],
   "source": [
    "# Cek Duplikat Data\n",
    "df.duplicated().sum()"
   ]
  },
  {
   "cell_type": "markdown",
   "id": "ec5d9b38",
   "metadata": {},
   "source": [
    "Dari dataset tersebut terlihat bahwa dataset tersebut tidak terdapat data yang rangkap"
   ]
  },
  {
   "cell_type": "markdown",
   "id": "b4b83649",
   "metadata": {},
   "source": [
    "# Korelasi Antar Feature Atau Kolom\n",
    "Digunakan untuk melihat hubungan atau kolerasi sebuah feature/atribut/kolom terhadapat label/class/target output yang\n",
    "diharapkan"
   ]
  },
  {
   "cell_type": "code",
   "execution_count": 19,
   "id": "ab0d13df",
   "metadata": {},
   "outputs": [
    {
     "data": {
      "text/html": [
       "<div>\n",
       "<style scoped>\n",
       "    .dataframe tbody tr th:only-of-type {\n",
       "        vertical-align: middle;\n",
       "    }\n",
       "\n",
       "    .dataframe tbody tr th {\n",
       "        vertical-align: top;\n",
       "    }\n",
       "\n",
       "    .dataframe thead th {\n",
       "        text-align: right;\n",
       "    }\n",
       "</style>\n",
       "<table border=\"1\" class=\"dataframe\">\n",
       "  <thead>\n",
       "    <tr style=\"text-align: right;\">\n",
       "      <th></th>\n",
       "      <th>Jenis Kelamin</th>\n",
       "      <th>Usia</th>\n",
       "      <th>Status Bekerja</th>\n",
       "      <th>IPK semester 2</th>\n",
       "      <th>IPK semester 3</th>\n",
       "      <th>IPK semester 4</th>\n",
       "      <th>IPK semester 5</th>\n",
       "      <th>IPK semester 6</th>\n",
       "      <th>IPK semester 7</th>\n",
       "      <th>Lulus Tepat Waktu</th>\n",
       "    </tr>\n",
       "  </thead>\n",
       "  <tbody>\n",
       "    <tr>\n",
       "      <th>0</th>\n",
       "      <td>Pria</td>\n",
       "      <td>25</td>\n",
       "      <td>ya</td>\n",
       "      <td>3.45</td>\n",
       "      <td>2.45</td>\n",
       "      <td>2.75</td>\n",
       "      <td>3.00</td>\n",
       "      <td>2.45</td>\n",
       "      <td>3.70</td>\n",
       "      <td>tidak</td>\n",
       "    </tr>\n",
       "    <tr>\n",
       "      <th>1</th>\n",
       "      <td>Pria</td>\n",
       "      <td>21</td>\n",
       "      <td>tidak</td>\n",
       "      <td>3.45</td>\n",
       "      <td>2.76</td>\n",
       "      <td>2.90</td>\n",
       "      <td>2.45</td>\n",
       "      <td>2.76</td>\n",
       "      <td>3.70</td>\n",
       "      <td>ya</td>\n",
       "    </tr>\n",
       "    <tr>\n",
       "      <th>2</th>\n",
       "      <td>Pria</td>\n",
       "      <td>22</td>\n",
       "      <td>tidak</td>\n",
       "      <td>3.20</td>\n",
       "      <td>3.00</td>\n",
       "      <td>2.45</td>\n",
       "      <td>2.00</td>\n",
       "      <td>3.00</td>\n",
       "      <td>3.89</td>\n",
       "      <td>ya</td>\n",
       "    </tr>\n",
       "    <tr>\n",
       "      <th>3</th>\n",
       "      <td>Wanita</td>\n",
       "      <td>26</td>\n",
       "      <td>tidak</td>\n",
       "      <td>3.61</td>\n",
       "      <td>3.14</td>\n",
       "      <td>2.76</td>\n",
       "      <td>2.70</td>\n",
       "      <td>3.14</td>\n",
       "      <td>2.67</td>\n",
       "      <td>ya</td>\n",
       "    </tr>\n",
       "    <tr>\n",
       "      <th>4</th>\n",
       "      <td>Pria</td>\n",
       "      <td>22</td>\n",
       "      <td>tidak</td>\n",
       "      <td>3.00</td>\n",
       "      <td>2.75</td>\n",
       "      <td>2.12</td>\n",
       "      <td>2.90</td>\n",
       "      <td>2.75</td>\n",
       "      <td>2.89</td>\n",
       "      <td>tidak</td>\n",
       "    </tr>\n",
       "  </tbody>\n",
       "</table>\n",
       "</div>"
      ],
      "text/plain": [
       "  Jenis Kelamin  Usia Status Bekerja  IPK semester 2  IPK semester 3  \\\n",
       "0          Pria    25             ya            3.45            2.45   \n",
       "1          Pria    21          tidak            3.45            2.76   \n",
       "2          Pria    22          tidak            3.20            3.00   \n",
       "3        Wanita    26          tidak            3.61            3.14   \n",
       "4          Pria    22          tidak            3.00            2.75   \n",
       "\n",
       "   IPK semester 4  IPK semester 5  IPK semester 6  IPK semester 7  \\\n",
       "0            2.75            3.00            2.45            3.70   \n",
       "1            2.90            2.45            2.76            3.70   \n",
       "2            2.45            2.00            3.00            3.89   \n",
       "3            2.76            2.70            3.14            2.67   \n",
       "4            2.12            2.90            2.75            2.89   \n",
       "\n",
       "  Lulus Tepat Waktu  \n",
       "0             tidak  \n",
       "1                ya  \n",
       "2                ya  \n",
       "3                ya  \n",
       "4             tidak  "
      ]
     },
     "execution_count": 19,
     "metadata": {},
     "output_type": "execute_result"
    }
   ],
   "source": [
    "# Membuat dataframe baru dengan mengambil data-data dari dataframe lainnya\n",
    "df1=df [['Jenis Kelamin', 'Usia', 'Status Bekerja', 'IPK semester 2', 'IPK semester 3', 'IPK semester 4', 'IPK semester 5', 'IPK semester 6', 'IPK semester 7', 'Lulus Tepat Waktu']]\n",
    "df1.head()"
   ]
  },
  {
   "cell_type": "code",
   "execution_count": 20,
   "id": "16c17715",
   "metadata": {},
   "outputs": [
    {
     "name": "stderr",
     "output_type": "stream",
     "text": [
      "C:\\Users\\Dzaya\\AppData\\Local\\Temp\\ipykernel_8700\\4257215064.py:2: SettingWithCopyWarning: \n",
      "A value is trying to be set on a copy of a slice from a DataFrame\n",
      "\n",
      "See the caveats in the documentation: https://pandas.pydata.org/pandas-docs/stable/user_guide/indexing.html#returning-a-view-versus-a-copy\n",
      "  df1.replace({'Pria': 1, 'Wanita':0, 'ya':1, 'tidak':0}, inplace=True)\n"
     ]
    },
    {
     "data": {
      "text/html": [
       "<div>\n",
       "<style scoped>\n",
       "    .dataframe tbody tr th:only-of-type {\n",
       "        vertical-align: middle;\n",
       "    }\n",
       "\n",
       "    .dataframe tbody tr th {\n",
       "        vertical-align: top;\n",
       "    }\n",
       "\n",
       "    .dataframe thead th {\n",
       "        text-align: right;\n",
       "    }\n",
       "</style>\n",
       "<table border=\"1\" class=\"dataframe\">\n",
       "  <thead>\n",
       "    <tr style=\"text-align: right;\">\n",
       "      <th></th>\n",
       "      <th>Jenis Kelamin</th>\n",
       "      <th>Usia</th>\n",
       "      <th>Status Bekerja</th>\n",
       "      <th>IPK semester 2</th>\n",
       "      <th>IPK semester 3</th>\n",
       "      <th>IPK semester 4</th>\n",
       "      <th>IPK semester 5</th>\n",
       "      <th>IPK semester 6</th>\n",
       "      <th>IPK semester 7</th>\n",
       "      <th>Lulus Tepat Waktu</th>\n",
       "    </tr>\n",
       "  </thead>\n",
       "  <tbody>\n",
       "    <tr>\n",
       "      <th>0</th>\n",
       "      <td>1.0</td>\n",
       "      <td>25</td>\n",
       "      <td>1</td>\n",
       "      <td>3.45</td>\n",
       "      <td>2.45</td>\n",
       "      <td>2.75</td>\n",
       "      <td>3.00</td>\n",
       "      <td>2.45</td>\n",
       "      <td>3.70</td>\n",
       "      <td>0</td>\n",
       "    </tr>\n",
       "    <tr>\n",
       "      <th>1</th>\n",
       "      <td>1.0</td>\n",
       "      <td>21</td>\n",
       "      <td>0</td>\n",
       "      <td>3.45</td>\n",
       "      <td>2.76</td>\n",
       "      <td>2.90</td>\n",
       "      <td>2.45</td>\n",
       "      <td>2.76</td>\n",
       "      <td>3.70</td>\n",
       "      <td>1</td>\n",
       "    </tr>\n",
       "    <tr>\n",
       "      <th>2</th>\n",
       "      <td>1.0</td>\n",
       "      <td>22</td>\n",
       "      <td>0</td>\n",
       "      <td>3.20</td>\n",
       "      <td>3.00</td>\n",
       "      <td>2.45</td>\n",
       "      <td>2.00</td>\n",
       "      <td>3.00</td>\n",
       "      <td>3.89</td>\n",
       "      <td>1</td>\n",
       "    </tr>\n",
       "    <tr>\n",
       "      <th>3</th>\n",
       "      <td>0.0</td>\n",
       "      <td>26</td>\n",
       "      <td>0</td>\n",
       "      <td>3.61</td>\n",
       "      <td>3.14</td>\n",
       "      <td>2.76</td>\n",
       "      <td>2.70</td>\n",
       "      <td>3.14</td>\n",
       "      <td>2.67</td>\n",
       "      <td>1</td>\n",
       "    </tr>\n",
       "    <tr>\n",
       "      <th>4</th>\n",
       "      <td>1.0</td>\n",
       "      <td>22</td>\n",
       "      <td>0</td>\n",
       "      <td>3.00</td>\n",
       "      <td>2.75</td>\n",
       "      <td>2.12</td>\n",
       "      <td>2.90</td>\n",
       "      <td>2.75</td>\n",
       "      <td>2.89</td>\n",
       "      <td>0</td>\n",
       "    </tr>\n",
       "  </tbody>\n",
       "</table>\n",
       "</div>"
      ],
      "text/plain": [
       "   Jenis Kelamin  Usia  Status Bekerja  IPK semester 2  IPK semester 3  \\\n",
       "0            1.0    25               1            3.45            2.45   \n",
       "1            1.0    21               0            3.45            2.76   \n",
       "2            1.0    22               0            3.20            3.00   \n",
       "3            0.0    26               0            3.61            3.14   \n",
       "4            1.0    22               0            3.00            2.75   \n",
       "\n",
       "   IPK semester 4  IPK semester 5  IPK semester 6  IPK semester 7  \\\n",
       "0            2.75            3.00            2.45            3.70   \n",
       "1            2.90            2.45            2.76            3.70   \n",
       "2            2.45            2.00            3.00            3.89   \n",
       "3            2.76            2.70            3.14            2.67   \n",
       "4            2.12            2.90            2.75            2.89   \n",
       "\n",
       "   Lulus Tepat Waktu  \n",
       "0                  0  \n",
       "1                  1  \n",
       "2                  1  \n",
       "3                  1  \n",
       "4                  0  "
      ]
     },
     "execution_count": 20,
     "metadata": {},
     "output_type": "execute_result"
    }
   ],
   "source": [
    "# Mengubah bentuk data dari object ke numerik\n",
    "df1.replace({'Pria': 1, 'Wanita':0, 'ya':1, 'tidak':0}, inplace=True)\n",
    "df1.head()"
   ]
  },
  {
   "cell_type": "markdown",
   "id": "b3f4eb0f",
   "metadata": {},
   "source": [
    "#### Mengubah bentuk data dapat dilakukan dengan cara berikut\n",
    "1. df1['Jenis Kelamin'].replace(to_replace='Pria', value=1, inplace=True)\n",
    "2. df1['Jenis Kelamin'].replace(to_replace='Wanita', value=0, inplace=True)\n"
   ]
  },
  {
   "cell_type": "code",
   "execution_count": 21,
   "id": "0089905d",
   "metadata": {},
   "outputs": [
    {
     "data": {
      "text/html": [
       "<div>\n",
       "<style scoped>\n",
       "    .dataframe tbody tr th:only-of-type {\n",
       "        vertical-align: middle;\n",
       "    }\n",
       "\n",
       "    .dataframe tbody tr th {\n",
       "        vertical-align: top;\n",
       "    }\n",
       "\n",
       "    .dataframe thead th {\n",
       "        text-align: right;\n",
       "    }\n",
       "</style>\n",
       "<table border=\"1\" class=\"dataframe\">\n",
       "  <thead>\n",
       "    <tr style=\"text-align: right;\">\n",
       "      <th></th>\n",
       "      <th>Lulus Tepat Waktu</th>\n",
       "    </tr>\n",
       "  </thead>\n",
       "  <tbody>\n",
       "    <tr>\n",
       "      <th>Jenis Kelamin</th>\n",
       "      <td>0.086303</td>\n",
       "    </tr>\n",
       "    <tr>\n",
       "      <th>Usia</th>\n",
       "      <td>0.459842</td>\n",
       "    </tr>\n",
       "    <tr>\n",
       "      <th>Status Bekerja</th>\n",
       "      <td>0.323973</td>\n",
       "    </tr>\n",
       "    <tr>\n",
       "      <th>IPK semester 2</th>\n",
       "      <td>0.000086</td>\n",
       "    </tr>\n",
       "    <tr>\n",
       "      <th>IPK semester 3</th>\n",
       "      <td>0.009052</td>\n",
       "    </tr>\n",
       "    <tr>\n",
       "      <th>IPK semester 4</th>\n",
       "      <td>0.029413</td>\n",
       "    </tr>\n",
       "    <tr>\n",
       "      <th>IPK semester 5</th>\n",
       "      <td>0.076009</td>\n",
       "    </tr>\n",
       "    <tr>\n",
       "      <th>IPK semester 6</th>\n",
       "      <td>0.101424</td>\n",
       "    </tr>\n",
       "    <tr>\n",
       "      <th>IPK semester 7</th>\n",
       "      <td>0.003578</td>\n",
       "    </tr>\n",
       "    <tr>\n",
       "      <th>Lulus Tepat Waktu</th>\n",
       "      <td>1.000000</td>\n",
       "    </tr>\n",
       "  </tbody>\n",
       "</table>\n",
       "</div>"
      ],
      "text/plain": [
       "                   Lulus Tepat Waktu\n",
       "Jenis Kelamin               0.086303\n",
       "Usia                        0.459842\n",
       "Status Bekerja              0.323973\n",
       "IPK semester 2              0.000086\n",
       "IPK semester 3              0.009052\n",
       "IPK semester 4              0.029413\n",
       "IPK semester 5              0.076009\n",
       "IPK semester 6              0.101424\n",
       "IPK semester 7              0.003578\n",
       "Lulus Tepat Waktu           1.000000"
      ]
     },
     "execution_count": 21,
     "metadata": {},
     "output_type": "execute_result"
    }
   ],
   "source": [
    "# Menampilkan korelasi antar feature/atribut/kolom terhadap target/label/class/output\n",
    "df1.corr().abs()[[\"Lulus Tepat Waktu\"]]\n"
   ]
  },
  {
   "cell_type": "markdown",
   "id": "9380cff7",
   "metadata": {},
   "source": [
    "Analisis Korelasi\n",
    "\n",
    "Kita dapat menganalisis korelasi antara semua variabel masukan untuk mengidentifikasi fitur yang akan menjadi\n",
    "masukan terbaik untuk model pembelajaran mesin. Semakin dekat suatu nilai dengan 1, semakin tinggi korelasi antara\n",
    "nilai dan hasilnya."
   ]
  },
  {
   "cell_type": "markdown",
   "id": "67610bd5",
   "metadata": {},
   "source": [
    "# Visualisasi Data\n",
    "Visualisasi data adalah proses menggunakan elemen visual seperti diagram, grafik, atau peta untuk merepresentasikan\n",
    "data (https://aws.amazon.com (https://aws.amazon.com)), Dengan kata lain, ini adalah proses mengubah data hasil\n",
    "analisis menjadi gambaran visual berupa bagan, peta, grafik, dan banyak lainnya.\n",
    "Visualisasi data merupakan cara terbaik untuk menyajikan data kepada audiens non-teknis supaya mereka tidak\n",
    "kesulitan untuk membaca dan memahami data tersebut. Ini juga juga memungkinkan para pengambil keputusan dalam\n",
    "memahami konsep sulit atau mengidentifikasi pola baru.\n",
    "modul/library yang populer digunakan untuk visualisasi data dalam python adalah Matplotlib dan seaborn\n",
    "1. Matplotlib adalah library Python yang digunakan untuk membuat visualisasi data agar lebih menarik dan mudah\n",
    "dipahami. Matplotlib dapat membuat visualisasi data dalam bentuk 2D dan 3D yang disesuaikan dengan kebutuhan.\n",
    "Beberapa bagian seperti ukuran, warna, dan lainnya bisa diatur oleh pemrogram agar informasi dapat tersampaikan\n",
    "dengan baik.\n",
    "2. Seaborn sesungguhnya tidaklah jauh berbeda dibandingkan matplotlib, sebab seaborn dibangun di atas matplotlib\n",
    "sebagai pustaka fondasi utama-nya. Plot - plot rumit yang sukar dikerjakan oleh para analis data dalam matplotlib dapat\n",
    "dengan mudah dikerjakan dalam seaborn. Seaborn dalam hal ini merupakan pelengkap matplotlib, bukan pengganti.\n"
   ]
  },
  {
   "cell_type": "markdown",
   "id": "b7ad79b7",
   "metadata": {},
   "source": [
    "# 1. Menampilkan Visualisasi Korelasi antar feature/kolom"
   ]
  },
  {
   "cell_type": "code",
   "execution_count": 22,
   "id": "9360efe6",
   "metadata": {},
   "outputs": [
    {
     "data": {
      "text/plain": [
       "<Axes: >"
      ]
     },
     "execution_count": 22,
     "metadata": {},
     "output_type": "execute_result"
    },
    {
     "data": {
      "image/png": "[encoded data removed]",
      "text/plain": [
       "<Figure size 1500x800 with 1 Axes>"
      ]
     },
     "metadata": {},
     "output_type": "display_data"
    }
   ],
   "source": [
    "# Visualisasi menggunakan grafik batang\n",
    "plt.figure(figsize=(15,8))\n",
    "df1.corr()['Lulus Tepat Waktu'].sort_values(ascending = False).plot(kind='bar', color=['red', 'green', 'blue'])"
   ]
  },
  {
   "cell_type": "markdown",
   "id": "babc0edf",
   "metadata": {},
   "source": [
    "#### Analisa visualisasi\n",
    "dari visualisasi dengan grafik batang diatas, dapat dilihat bahwa:\n",
    "1. sisi grafik batang bagian atas menunjukkan korelasi positif antar feature/kolom, terlihat bahwa IPK semester 6 memiliki\n",
    "korelasi positif terhadap kelulusan Mahasiswa, yaitu sebesar 0,1. di ikuti dengan jenis kelamin sebesar 0,08.\n",
    "2. sedangkan sisi grafik batang bagian bawah menunjukkan korelasi negatif antar feature/kolom, terlihat bahwa usia\n",
    "memiliki korelasi negatif terhadap kelulusan Mahasiswa, yaitu sebesar - 0,45. di ikuti dengan status bekerja sebesar -\n",
    "0,38\n"
   ]
  },
  {
   "cell_type": "code",
   "execution_count": 23,
   "id": "33a9b502",
   "metadata": {},
   "outputs": [
    {
     "data": {
      "image/png": "[encoded data removed]",
      "text/plain": [
       "<Figure size 640x480 with 2 Axes>"
      ]
     },
     "metadata": {},
     "output_type": "display_data"
    }
   ],
   "source": [
    "# Membuat visualisasi dengan grafik Heatmap\n",
    "# Membuat korelasi matriks untuk semua  variabel numerik\n",
    "corr_matrix = df1.corr()\n",
    "\n",
    "# Membuat Heatmap\n",
    "sns.heatmap(corr_matrix, cmap='coolwarm')\n",
    "\n",
    "plt.show()"
   ]
  },
  {
   "cell_type": "markdown",
   "id": "2adafd34",
   "metadata": {},
   "source": [
    "Hasil visualisasi diatas akan menampilkan heatmap yang menunjukkan korelasi antara semua variabel numerik dalam\n",
    "dataset.\n",
    "Semakin dekat dengan warna merah, semakin tinggi korelasi positif antara dua variabel.\n",
    "Sebaliknya, semakin dekat dengan warna biru, semakin tinggi korelasi negatif antara dua variabel.\n"
   ]
  },
  {
   "cell_type": "markdown",
   "id": "69cd34ca",
   "metadata": {},
   "source": [
    "# 2. Menampilkan Distribusi Label/Class (Kelulusan Mahasiswa)"
   ]
  },
  {
   "cell_type": "code",
   "execution_count": 24,
   "id": "f2d14135",
   "metadata": {
    "scrolled": true
   },
   "outputs": [
    {
     "data": {
      "image/png": "[encoded data removed]",
      "text/plain": [
       "<Figure size 800x600 with 1 Axes>"
      ]
     },
     "metadata": {},
     "output_type": "display_data"
    }
   ],
   "source": [
    "colors = ['#4D3425', '#E4512B']\n",
    "ax = (df1['Lulus Tepat Waktu'].value_counts()*100.0 /len(df)).plot(kind='bar', stacked = True, rot = 0, color=colors, figsize=(8, 6))\n",
    "ax.yaxis.set_major_formatter(mtick.PercentFormatter())\n",
    "ax.set_ylabel('% Mahasiswa')\n",
    "ax.set_xlabel('Status Kelulusan')\n",
    "ax.set_ylabel('% Mahasiswa')\n",
    "ax.set_title('Distribusi Lulus Tepat Waktu')\n",
    "\n",
    "# Membuat List untuk mengumpulkan data plot\n",
    "totals = []\n",
    "\n",
    "# Mengambil nilai dan menambahkan ke list\n",
    "for i in ax.patches:\n",
    "    totals.append(i.get_width())\n",
    "\n",
    "# Mengambil label pada grafik batang menggunakan list diatas\n",
    "total = sum(totals)\n",
    "\n",
    "for i in ax.patches:\n",
    "    # Mengatur ukuran lebar dan tinggi grafik\n",
    "    ax.text(i.get_x()+.10, i.get_height()-2.5, \\\n",
    "            str(round((i.get_height()/total), 1))+'%',\n",
    "            fontsize=10,\n",
    "            color='white',\n",
    "            weight = 'bold')"
   ]
  },
  {
   "cell_type": "markdown",
   "id": "ee6d715c",
   "metadata": {},
   "source": [
    "Distribusi Status Kelulusan Mahasiswa - lebih dari separuh dari mahasiswa dalam kumpulan data, yang lulus tepat waktu\n",
    "(53,2%), sementara 46,8% lainnya adalah tidak tepat waktu., angka ini relatif tinggi sehingga perlu dilakkukan analisa\n",
    "lebih jauh\n"
   ]
  },
  {
   "cell_type": "markdown",
   "id": "106ef371",
   "metadata": {},
   "source": [
    "### Distribusi Feature/Kolom IPK Semester 6\n",
    "feature/kolom ini memiliki korelasi positif yang paling tinggi diantara yang lain\n"
   ]
  },
  {
   "cell_type": "code",
   "execution_count": 25,
   "id": "2dc05d57",
   "metadata": {},
   "outputs": [
    {
     "data": {
      "image/png": "[encoded data removed]",
      "text/plain": [
       "<Figure size 640x480 with 1 Axes>"
      ]
     },
     "metadata": {},
     "output_type": "display_data"
    }
   ],
   "source": [
    "fig = plt.figure()\n",
    "ax = sns.histplot(data = df, x='IPK semester 6')\n",
    "plt.show()"
   ]
  },
  {
   "cell_type": "markdown",
   "id": "de5de442",
   "metadata": {},
   "source": [
    "#### Dari visualisasi di atas, dapat dikatakan bahwa IPK di semester 6 terdapat :\n",
    "sekitar 53 orang mahasiswa dengan IPK 2,9-3,1\n",
    "sekitar 48 orang mahasiswa dengan IPK 2,74-2,8\n",
    "sekitar 25 orang mahasiswa dengan IPK 2,4-2,52\n",
    "Minimum (2.0) dan Maximum (over 3.76) masih berada di dalam Interquartile Range sehingga tidak ada Outliers\n"
   ]
  },
  {
   "cell_type": "markdown",
   "id": "04dc4932",
   "metadata": {},
   "source": [
    "### Distribusi Feature/Kolom Jenis Kelamin\n",
    "feature/kolom ini memiliki korelasi positif yang tinggi etelah IPK semester 6"
   ]
  },
  {
   "cell_type": "code",
   "execution_count": 26,
   "id": "cbe85b9b",
   "metadata": {},
   "outputs": [
    {
     "data": {
      "text/plain": [
       "Text(0.5, 1.0, '% Jenis Kelamin')"
      ]
     },
     "execution_count": 26,
     "metadata": {},
     "output_type": "execute_result"
    },
    {
     "data": {
      "image/png": "[encoded data removed]",
      "text/plain": [
       "<Figure size 500x500 with 1 Axes>"
      ]
     },
     "metadata": {},
     "output_type": "display_data"
    }
   ],
   "source": [
    "# Distribusi Jenis Kelamin Mahasiswa\n",
    "ax = (df['Jenis Kelamin'].value_counts()*100.0 /len(df))\\\n",
    ".plot.pie(autopct='%.1f%%', labels = ['Pria', 'Wanita'],figsize =(5,5), fontsize = 12)\n",
    "ax.yaxis.set_major_formatter(mtick.PercentFormatter())\n",
    "ax.set_ylabel('JK', fontsize=12)\n",
    "ax.set_title('% Jenis Kelamin', fontsize = 12)"
   ]
  },
  {
   "cell_type": "markdown",
   "id": "d591f283",
   "metadata": {},
   "source": [
    "Distribusi Jenis Kelamin Mahasiswa - sebanyak 77,3% Pria dan 22,7% adalah wanita"
   ]
  },
  {
   "cell_type": "markdown",
   "id": "e547c33c",
   "metadata": {},
   "source": [
    "### Distribusi Usia\n",
    "Feature usia ini memiliki korelasi negatif tertinggi sebesar -0,45 dibandingkan feature yang lainnya"
   ]
  },
  {
   "cell_type": "code",
   "execution_count": 27,
   "id": "bad1935f",
   "metadata": {},
   "outputs": [
    {
     "data": {
      "image/png": "[encoded data removed]",
      "text/plain": [
       "<Figure size 640x480 with 1 Axes>"
      ]
     },
     "metadata": {},
     "output_type": "display_data"
    }
   ],
   "source": [
    "fig = plt.figure()\n",
    "ax = sns.histplot(data = df, x='Usia')\n",
    "plt.show()"
   ]
  },
  {
   "cell_type": "code",
   "execution_count": 28,
   "id": "8231d1c4",
   "metadata": {},
   "outputs": [
    {
     "name": "stdout",
     "output_type": "stream",
     "text": [
      "21    56\n",
      "22    41\n",
      "28    30\n",
      "26    24\n",
      "30    24\n",
      "27    20\n",
      "25    14\n",
      "24    10\n",
      "29     9\n",
      "23     4\n",
      "31     3\n",
      "Name: Usia, dtype: int64\n"
     ]
    }
   ],
   "source": [
    "# Untuk memastikan jumlah mahasiswa dengan usia tertentu kita dapat melihat/menampilkan frekuensi\n",
    "print(df['Usia'].value_counts())"
   ]
  },
  {
   "cell_type": "markdown",
   "id": "806042da",
   "metadata": {},
   "source": [
    "#### dari visualisasi diatas dapat dilihat bahwa:\n",
    "1. terdapat 97 mahasiswa dengan rentang usia 21-22 tahun\n",
    "2. terdapat 4 mahasiswa dengan usia 23 tahun\n",
    "3. terdapat 10 mahasiswa dengan rentang usia 24 tahun\n",
    "4. terdapat 14 mahasiswa dengan rentang usia 25 tahun\n",
    "5. terdapat 24 mahasiswa dengan rentang usia 26 tahun\n",
    "6. terdapat 20 mahasiswa dengan rentang usia 27 tahun\n",
    "7. terdapat 30 mahasiswa dengan rentang usia 28 tahun\n",
    "8. terdapat 9 mahasiswa dengan rentang usia 29 tahun\n",
    "9. terdapat 27 mahasiswa dengan rentang usia 30-31 tahun"
   ]
  },
  {
   "cell_type": "markdown",
   "id": "1c00daaa",
   "metadata": {},
   "source": [
    "#### Distribusi Usia dengan IPK semester 6"
   ]
  },
  {
   "cell_type": "code",
   "execution_count": 29,
   "id": "d317c556",
   "metadata": {},
   "outputs": [
    {
     "data": {
      "text/plain": [
       "<Figure size 640x480 with 0 Axes>"
      ]
     },
     "metadata": {},
     "output_type": "display_data"
    },
    {
     "data": {
      "image/png": "[encoded data removed]",
      "text/plain": [
       "<Figure size 600x600 with 3 Axes>"
      ]
     },
     "metadata": {},
     "output_type": "display_data"
    }
   ],
   "source": [
    "fig=plt.figure()\n",
    "ax=sns.jointplot(x='Usia', y='IPK semester 6', data=df)\n",
    "plt.show()"
   ]
  },
  {
   "cell_type": "markdown",
   "id": "861c7faf",
   "metadata": {},
   "source": [
    "Dari visualisasi diatas terlihat bahwa distribusi usia 27-31 tahun cenderung memiliki IPK semester 6 cenderung berada di\n",
    "Q2 dan Q3, sedangkan usia 21-26 tahun, cenderung lebih merata berada di Q1-Q3"
   ]
  },
  {
   "cell_type": "markdown",
   "id": "7a859e9f",
   "metadata": {},
   "source": [
    "### Distribusi usia dengan usia kelamin"
   ]
  },
  {
   "cell_type": "code",
   "execution_count": 30,
   "id": "e7131c71",
   "metadata": {},
   "outputs": [
    {
     "data": {
      "image/png": "[encoded data removed]",
      "text/plain": [
       "<Figure size 640x480 with 1 Axes>"
      ]
     },
     "metadata": {},
     "output_type": "display_data"
    }
   ],
   "source": [
    "fig=plt.figure()\n",
    "ax=sns.countplot(data=df,x='Jenis Kelamin',hue='Usia')\n",
    "plt.show()"
   ]
  },
  {
   "cell_type": "markdown",
   "id": "7caaec02",
   "metadata": {},
   "source": [
    "### Dari visualisasi diatas terlihat bahwa distribusi usia berdasarkan jenis kelamin\n",
    "1. terdapat 8 mahasiswa wanita dengan usia 21 tahun, 48 mahasiswa pria di usia 21 tahun\n",
    "2. terdapat 10 mahasiswa wanita dengan usia 22 tahun, 31 mahasiswa pria di usia 22 tahun\n",
    "3. terdapat 8 mahasiswa wanita dengan usia 28 tahun, 22 mahasiswa pria di usia 28 tahun\n",
    "4. terdapat 7 mahasiswa wanita dengan usia 30 tahun, 17 mahasiswa pria di usia 30 tahun"
   ]
  },
  {
   "cell_type": "markdown",
   "id": "93efb7cc",
   "metadata": {},
   "source": [
    "### Distribusi Status Bekerja\n",
    "Feature usia ini memiliki korelasi negatif kedua tertinggi sebesar -0,32 setelah feature usia"
   ]
  },
  {
   "cell_type": "code",
   "execution_count": 31,
   "id": "c05b40bc",
   "metadata": {},
   "outputs": [
    {
     "data": {
      "image/png": "[encoded data removed]",
      "text/plain": [
       "<Figure size 800x600 with 1 Axes>"
      ]
     },
     "metadata": {},
     "output_type": "display_data"
    }
   ],
   "source": [
    "colors = ['#4D3425', '#E4512B']\n",
    "ax = (df1['Status Bekerja'].value_counts()*100.0/len(df)).plot(kind='bar', stacked = True, rot = 0, color=colors, figsize=(8, 6))\n",
    "ax.yaxis.set_major_formatter(mtick.PercentFormatter())\n",
    "ax.set_ylabel('% Mahasiswa')\n",
    "ax.set_xlabel('Status Bekerja')\n",
    "ax.set_ylabel('%Mahasiswa')\n",
    "ax.set_title('distribusi Status Bekerja')\n",
    "\n",
    "# Membuat list untuk mengumpulkan data plt\n",
    "totals= []\n",
    "# Memgambil nilai dan menambahkan ke list\n",
    "for i in ax.patches:\n",
    "    totals.append(i.get_width())\n",
    "    \n",
    "# Memberi label pada grafik batang menggunakan list di atas\n",
    "total = sum(totals)\n",
    "\n",
    "for i in ax.patches:\n",
    "    # Mengatur ukuran dan lebar tinggi grafik\n",
    "    ax.text(i.get_x()+.10, i.get_height()-2.5, \\\n",
    "            str(round((i.get_height()/total), 1))+'%',\n",
    "            fontsize=6,\n",
    "            color='white',\n",
    "            weight = 'bold')"
   ]
  },
  {
   "cell_type": "markdown",
   "id": "2d23e0a3",
   "metadata": {},
   "source": [
    "Distribusi Status Kelulusan Mahasiswa - lebih dari separuh dari mahasiswa dalam kumpulan data, yang lulus tepat waktu\n",
    "(53,2%), sementara 46,8% lainnya adalah tidak tepat waktu., angka ini relatif tinggi sehingga perlu dilakkukan analisa\n",
    "lebih jauh"
   ]
  },
  {
   "cell_type": "markdown",
   "id": "09343a2b",
   "metadata": {},
   "source": [
    "### Distribusi Feature/Kolom IPK Semester 6\n",
    "feature/kolom ini memiliki korelasi positif yang paling tinggi diantara yang lain\n"
   ]
  },
  {
   "cell_type": "code",
   "execution_count": 32,
   "id": "b2521320",
   "metadata": {},
   "outputs": [
    {
     "data": {
      "image/png": "[encoded data removed]",
      "text/plain": [
       "<Figure size 640x480 with 1 Axes>"
      ]
     },
     "metadata": {},
     "output_type": "display_data"
    }
   ],
   "source": [
    "fig = plt.figure()\n",
    "ax = sns.histplot(data = df, x =  'IPK semester 6')\n",
    "plt.show()"
   ]
  },
  {
   "cell_type": "markdown",
   "id": "0409e5f2",
   "metadata": {},
   "source": [
    "#### Dari visualisasi di atas, dapat dikatakan bahwa IPK di semester 6 terdapat :\n",
    "sekitar 53 orang mahasiswa dengan IPK 2,9-3,1\n",
    "sekitar 48 orang mahasiswa dengan IPK 2,74-2,8\n",
    "sekitar 25 orang mahasiswa dengan IPK 2,4-2,52\n",
    "Minimum (2.0) dan Maximum (over 3.76) masih berada di dalam Interquartile Range sehingga tidak ada Outliers\n"
   ]
  },
  {
   "cell_type": "markdown",
   "id": "c6813a9e",
   "metadata": {},
   "source": [
    "### Distribusi Feature/Kolom Jenis Kelamin\n",
    "feature/kolom ini memiliki korelasi positif yang tinggi etelah IPK semester 6"
   ]
  },
  {
   "cell_type": "code",
   "execution_count": 33,
   "id": "3c13ddf5",
   "metadata": {},
   "outputs": [
    {
     "data": {
      "text/plain": [
       "Text(0.5, 1.0, '% Jenis Kelamin')"
      ]
     },
     "execution_count": 33,
     "metadata": {},
     "output_type": "execute_result"
    },
    {
     "data": {
      "image/png": "[encoded data removed]",
      "text/plain": [
       "<Figure size 500x500 with 1 Axes>"
      ]
     },
     "metadata": {},
     "output_type": "display_data"
    }
   ],
   "source": [
    "# Distribusi Jenis Kelamin Mahasiswa\n",
    "ax = (df['Jenis Kelamin'].value_counts()*100.0 /len(df))\\\n",
    ".plot.pie(autopct='%.1f%%', labels = ['Pria', 'Wanita'],figsize =(5,5), fontsize = 12)\n",
    "ax.yaxis.set_major_formatter(mtick.PercentFormatter())                 \n",
    "ax.set_ylabel('JK', fontsize = 12)\n",
    "ax.set_title('% Jenis Kelamin', fontsize = 12)"
   ]
  },
  {
   "cell_type": "markdown",
   "id": "d992a557",
   "metadata": {},
   "source": [
    "Distribusi Feature/Kolom Jenis Kelamin\n",
    "feature/kolom ini memiliki korelasi positif yang tinggi etelah IPK semester 6"
   ]
  },
  {
   "cell_type": "markdown",
   "id": "85bb4e21",
   "metadata": {},
   "source": [
    "### Distribusi Usia\n",
    "Feature usia ini memiliki korelasi negatif tertinggi sebesar -0,45 dibandingkan feature yang lainnya"
   ]
  },
  {
   "cell_type": "code",
   "execution_count": 34,
   "id": "6ef7de69",
   "metadata": {},
   "outputs": [
    {
     "data": {
      "image/png": "[encoded data removed]",
      "text/plain": [
       "<Figure size 640x480 with 1 Axes>"
      ]
     },
     "metadata": {},
     "output_type": "display_data"
    }
   ],
   "source": [
    "fig = plt.figure()\n",
    "ax = sns.histplot(data =  df, x ='Usia')\n",
    "plt.show()"
   ]
  },
  {
   "cell_type": "markdown",
   "id": "3b890489",
   "metadata": {},
   "source": [
    "#### dari visualisasi diatas dapat dilihat bahwa:\n",
    "1. terdapat 97 mahasiswa dengan rentang usia 21-22 tahun\n",
    "2. terdapat 4 mahasiswa dengan usia 23 tahun\n",
    "3. terdapat 10 mahasiswa dengan rentang usia 24 tahun\n",
    "4. terdapat 14 mahasiswa dengan rentang usia 25 tahun\n",
    "5. terdapat 24 mahasiswa dengan rentang usia 26 tahun\n",
    "6. terdapat 20 mahasiswa dengan rentang usia 27 tahun\n",
    "7. terdapat 30 mahasiswa dengan rentang usia 28 tahun\n",
    "8. terdapat 9 mahasiswa dengan rentang usia 29 tahun\n",
    "9. terdapat 27 mahasiswa dengan rentang usia 30-31 tahun\n"
   ]
  },
  {
   "cell_type": "markdown",
   "id": "12862060",
   "metadata": {},
   "source": [
    "#### Distribusi Usia dengan IPK semester 6"
   ]
  },
  {
   "cell_type": "markdown",
   "id": "3b097666",
   "metadata": {},
   "source": [
    "#### fig = plt.figure()\n",
    "ax = sns.jointplot(x='Usia', y='IPK semester 6', data = df)\n",
    "plt.show()"
   ]
  },
  {
   "cell_type": "markdown",
   "id": "ebd8563e",
   "metadata": {},
   "source": [
    "#### Distribusi Usia dengan Jenis Kelamin"
   ]
  },
  {
   "cell_type": "code",
   "execution_count": 35,
   "id": "8f60f10c",
   "metadata": {},
   "outputs": [
    {
     "data": {
      "image/png": "[encoded data removed]",
      "text/plain": [
       "<Figure size 640x480 with 1 Axes>"
      ]
     },
     "metadata": {},
     "output_type": "display_data"
    }
   ],
   "source": [
    "fig = plt.figure()\n",
    "ax = sns.countplot(df, x = 'Jenis Kelamin', hue = 'Usia')\n",
    "plt.show()"
   ]
  },
  {
   "cell_type": "markdown",
   "id": "53c24197",
   "metadata": {},
   "source": [
    "#### Dari visualisasi diatas terlihat bahwa distribusi usia berdasarkan jenis kelamin\n",
    "1. terdapat 8 mahasiswa wanita dengan usia 21 tahun, 48 mahasiswa pria di usia 21 tahun\n",
    "2. terdapat 10 mahasiswa wanita dengan usia 22 tahun, 31 mahasiswa pria di usia 22 tahun\n",
    "3. terdapat 8 mahasiswa wanita dengan usia 28 tahun, 22 mahasiswa pria di usia 28 tahun\n",
    "4. terdapat 7 mahasiswa wanita dengan usia 30 tahun, 17 mahasiswa pria di usia 30 tahun\n"
   ]
  },
  {
   "cell_type": "markdown",
   "id": "4b093420",
   "metadata": {},
   "source": [
    "### Distribusi Status Bekerja\n",
    "Feature usia ini memiliki korelasi negatif kedua tertinggi sebesar -0,32 setelah feature usia"
   ]
  },
  {
   "cell_type": "code",
   "execution_count": 36,
   "id": "fd396740",
   "metadata": {},
   "outputs": [
    {
     "data": {
      "image/png": "[encoded data removed]",
      "text/plain": [
       "<Figure size 800x600 with 1 Axes>"
      ]
     },
     "metadata": {},
     "output_type": "display_data"
    }
   ],
   "source": [
    "colors = ['#4D3425', '#E4512B']\n",
    "ax = (df1['Status Bekerja'].value_counts()*100.0/len(df)).plot(kind= 'bar', stacked = True, rot =0,color=colors, figsize=(8, 6))\n",
    "ax.yaxis.set_major_formatter(mtick.PercentFormatter())\n",
    "ax.set_ylabel('% Mahasiswa')\n",
    "ax.set_xlabel('Status Bekerja')\n",
    "ax.set_ylabel('% Mahasiswa')\n",
    "ax.set_title('Distribusi Status Bekerja')\n",
    "\n",
    "# Membuat list untuk mengumpulkan data plt\n",
    "totals = []\n",
    "\n",
    "# Mengambil nilai dan menambahkan ke list\n",
    "for i in ax.patches:\n",
    "    totals.append(i.get_width())\n",
    "\n",
    "# Memberi label pada grafik batang menggunakan list diatas\n",
    "total = sum(totals)\n",
    "\n",
    "for i in ax.patches:\n",
    "    # Mengukur ukuran lebar dan tinggi grafik\n",
    "    ax.text(i.get_x()+.10, i.get_height()-2.5, \\\n",
    "            str(round((i.get_height()/total), 1))+'%',\n",
    "            fontsize = 6,\n",
    "            color = 'white',\n",
    "            weight = 'bold')"
   ]
  },
  {
   "cell_type": "markdown",
   "id": "fd061770",
   "metadata": {},
   "source": [
    "Distribusi Satus Pekerjaan Mahasiswa - sebanyak 52,3% dari mahasiswa memiliki status sebagai pekerja(bekerja),\n",
    "sementara 47,7% lainnya memiliki status hanya sebagai mahasiswa (tidak bekerja)\n"
   ]
  },
  {
   "cell_type": "code",
   "execution_count": 37,
   "id": "ae84544a",
   "metadata": {},
   "outputs": [
    {
     "data": {
      "image/png": "[encoded data removed]",
      "text/plain": [
       "<Figure size 640x480 with 1 Axes>"
      ]
     },
     "metadata": {},
     "output_type": "display_data"
    }
   ],
   "source": [
    "fig = plt.figure()\n",
    "ax = sns.histplot(data = df, x= 'IPK semester 6', hue = 'Status Bekerja')\n",
    "plt.show()"
   ]
  },
  {
   "cell_type": "markdown",
   "id": "f398de93",
   "metadata": {},
   "source": [
    "Terlihat bahwa mahasiswa dengan status bekerja, IPK semester 6 nya cenderung lebih baik dibandingkan dengan\n",
    "mahasiswa yang memiliki status tidak bekerja.\n"
   ]
  },
  {
   "cell_type": "code",
   "execution_count": 38,
   "id": "9118a486",
   "metadata": {},
   "outputs": [
    {
     "data": {
      "image/png": "[encoded data removed]",
      "text/plain": [
       "<Figure size 800x600 with 1 Axes>"
      ]
     },
     "metadata": {},
     "output_type": "display_data"
    }
   ],
   "source": [
    "df2 = pd.melt(df, id_vars=['Nim'], value_vars=['Jenis Kelamin','Status Bekerja'])\n",
    "df3 = df2.groupby(['variable','value']).count().unstack()\n",
    "df3 = df3*100/len(df)\n",
    "colors = ['#4D3425','#E4512B']\n",
    "ax = df3.loc[:,'Nim'].plot.bar(stacked=True, color=colors,\n",
    "                               figsize=(8,6),rot = 0,\n",
    "                               width = 0.2)\n",
    "\n",
    "ax.yaxis.set_major_formatter(mtick.PercentFormatter())\n",
    "ax.set_ylabel('% Mahasiswa',size = 14)\n",
    "ax.set_xlabel('')\n",
    "ax.set_title('% Mahasiswa berdasarkan jenis kelamin dan status Bekerja',size = 14)\n",
    "ax.legend(loc = 'center',prop={'size':14})\n",
    "\n",
    "for p in ax.patches:\n",
    "    width, height = p.get_width(), p.get_height()\n",
    "    x, y = p.get_xy() \n",
    "    ax.annotate('{:.0f}%'.format(height), (p.get_x()+.25*width, p.get_y()+.4*height),\n",
    "                color = 'white',\n",
    "                weight = 'bold',\n",
    "                size = 14)"
   ]
  },
  {
   "cell_type": "markdown",
   "id": "7d460b9e",
   "metadata": {},
   "source": [
    "Distribusi Jenis Kelamin Mahasiswa - sebanyak 77% Pria dan 23% adalah wanita. \n",
    "\n",
    "Distribusi Satus Pekerjaan Mahasiswa - sebanyak 52,3% dari mahasiswa memiliki status sebagai pekerja(bekerja),\n",
    "sementara 47,7% lainnya memiliki status hanya sebagai mahasiswa (tidak bekerja)\n"
   ]
  },
  {
   "cell_type": "markdown",
   "id": "dee31164",
   "metadata": {},
   "source": [
    "# Pengaruh Distribusi Usia Terhadap Kelulusan Mahasiswa"
   ]
  },
  {
   "cell_type": "code",
   "execution_count": 39,
   "id": "26a0f178",
   "metadata": {},
   "outputs": [
    {
     "data": {
      "image/png": "[encoded data removed]",
      "text/plain": [
       "<Figure size 640x480 with 1 Axes>"
      ]
     },
     "metadata": {},
     "output_type": "display_data"
    }
   ],
   "source": [
    "fig = plt.figure()\n",
    "ax = sns.countplot(data  = df, x = 'Lulus Tepat Waktu', hue = 'Usia')\n",
    "plt.show()"
   ]
  },
  {
   "cell_type": "markdown",
   "id": "6618b87e",
   "metadata": {},
   "source": [
    "## Pola/Trend Data\n",
    "- Dari visualisasi diatas terlihat bahwa trend mahasiswa yang tidak lulus tepat waktu cenderung merupakan mahasiswa yang memiliki rentang usia 25 tahun - usia 31 tahun.\n",
    "- sedangkan untuk mahasiswa yang lulus tepat waktu cenderung merupakan mahasiswa yang memiliki rentang usia 21 tahun - usia 24 tahun\n"
   ]
  },
  {
   "cell_type": "markdown",
   "id": "9a65c57d",
   "metadata": {},
   "source": [
    "# Pengaruh Distribusi Status Bekerja Terhadap Kelulusan Mahasiswa"
   ]
  },
  {
   "cell_type": "code",
   "execution_count": 40,
   "id": "d5c4271a",
   "metadata": {},
   "outputs": [
    {
     "data": {
      "image/png": "[encoded data removed]",
      "text/plain": [
       "<Figure size 640x480 with 1 Axes>"
      ]
     },
     "metadata": {},
     "output_type": "display_data"
    }
   ],
   "source": [
    "fig = plt.figure() \n",
    "ax = sns.countplot(data = df, x='Lulus Tepat Waktu', hue = 'Status Bekerja')\n",
    "plt.show() "
   ]
  },
  {
   "cell_type": "markdown",
   "id": "a96d87f4",
   "metadata": {},
   "source": [
    "### Pola/Trend Data\n",
    "- Dari visualisasi diatas terlihat bahwa trend mahasiswa yang tidak lulus tepat waktu cenderung merupakan mahasiswa yang memiliki status bekerja\n",
    "- sedangkan untuk mahasiswa yang lulus tepat waktu cenderung merupakan mahasiswa yang memiliki status tidak bekerja"
   ]
  },
  {
   "cell_type": "markdown",
   "id": "ebc32a8f",
   "metadata": {},
   "source": [
    "# Pengaruh Distribusi IPK SM 6 Terhadap Kelulusan Mahasiswa"
   ]
  },
  {
   "cell_type": "code",
   "execution_count": 41,
   "id": "03a29f9c",
   "metadata": {},
   "outputs": [
    {
     "data": {
      "image/png": "[encoded data removed]",
      "text/plain": [
       "<Figure size 640x480 with 1 Axes>"
      ]
     },
     "metadata": {},
     "output_type": "display_data"
    }
   ],
   "source": [
    "fig = plt.figure() \n",
    "ax = sns.countplot(data = df, x='Lulus Tepat Waktu', hue = 'IPK semester 6')\n",
    "plt.show()"
   ]
  },
  {
   "cell_type": "markdown",
   "id": "69a38f1c",
   "metadata": {},
   "source": [
    "### Pola/Trend Data\n",
    "- Dari visualisasi diatas terlihat bahwa trend mahasiswa yang tidak lulus tepat waktu cenderung memiliki nilai IPK semester 6 yang relatif rendah(2.1-2.76)\n",
    "- sedangkan untuk mahasiswa yang lulus tepat waktu cenderung merupakan mahasiswa yangmemiliki nilai IPK semester 6 yang relatif tinggi (2.78-3.8)\n"
   ]
  },
  {
   "cell_type": "markdown",
   "id": "ed1dda18",
   "metadata": {},
   "source": [
    "# Pengaruh Distribusi Jenis Kelamin Terhadap Kelulusan Mahasiswa"
   ]
  },
  {
   "cell_type": "code",
   "execution_count": 42,
   "id": "d6585967",
   "metadata": {},
   "outputs": [
    {
     "data": {
      "image/png": "[encoded data removed]",
      "text/plain": [
       "<Figure size 640x480 with 1 Axes>"
      ]
     },
     "metadata": {},
     "output_type": "display_data"
    }
   ],
   "source": [
    "fig = plt.figure() \n",
    "ax = sns.countplot(data = df, x='Lulus Tepat Waktu', hue = 'Jenis Kelamin')\n",
    "plt.show()"
   ]
  },
  {
   "cell_type": "markdown",
   "id": "377e0a28",
   "metadata": {},
   "source": [
    "### Pola/Trend Data\n",
    "- Dari visualisasi diatas terlihat bahwa trend mahasiswa yang tidak lulus tepat waktu cenderung merupakan mahasiswa\n",
    "yang berjenis kelamin wanita (dari total jumlah mahasiswa berjenis kelamin wanita)\n",
    "- Sedangkan untuk mahasiswa yang lulus tepat waktu cenderung merupakan mahasiswa yang berjenis kelamin Pria (dari\n",
    "total jumlah mahasiswa berjenis kelamin pria)"
   ]
  },
  {
   "cell_type": "markdown",
   "id": "176d81a6",
   "metadata": {},
   "source": [
    "### Berdasarkan dari hasil analisis dan visualisasi data yang telah dilakukan, didapatkan informasi bahwa:\n",
    "1. Mahasiswa dengan nilai IPK semester 6 yang lebih tinggi cenderung lebih mudah lulus tepat waktu.\n",
    "- Hal ini dapat disebabkan oleh kemampuan akademik mahasiswa yang lebih baik, yang membuat mereka lebih mudah menyelesaikan tugas dan ujian tepat waktu.\n",
    "2. Mahasiswa perempuan cenderung memiliki tingkat kelulusan yang lebih rendah dibandingkan mahasiswa laki-laki.\n",
    "- Hal ini dapat disebabkan oleh perbedaan gender dalam faktor-faktor seperti beban kerja di luar kampus, dukungan sosial, dan perbedaan persepsi terhadap pendidikan.\n",
    "3. Mahasiswa yang lebih muda cenderung lebih mudah lulus tepat waktu.\n",
    "- Hal ini dapat disebabkan oleh fakta bahwa mahasiswa yang lebih muda cenderung memiliki lebih banyak waktu untuk fokus pada pendidikan dan kurangnya tanggung jawab lain yang terkait dengan usia yang lebih tua.\n",
    "4. Mahasiswa yang tidak bekerja cenderung memiliki tingkat kelulusan yang lebih tinggi dibandingkan mahasiswa yang bekerja.\n",
    "- Hal ini dapat disebabkan oleh fakta bahwa mahasiswa yang tidak bekerja cenderung memiliki lebih banyak waktu untuk fokus pada pendidikan dan kurangnya beban kerja di luar kampus yang dapat mempengaruhi kinerja akademik mereka.\n"
   ]
  },
  {
   "cell_type": "code",
   "execution_count": null,
   "id": "0ee1f358",
   "metadata": {},
   "outputs": [],
   "source": []
  }
 ],
 "metadata": {
  "kernelspec": {
   "display_name": "Python 3 (ipykernel)",
   "language": "python",
   "name": "python3"
  },
  "language_info": {
   "codemirror_mode": {
    "name": "ipython",
    "version": 3
   },
   "file_extension": ".py",
   "mimetype": "text/x-python",
   "name": "python",
   "nbconvert_exporter": "python",
   "pygments_lexer": "ipython3",
   "version": "3.11.4"
  }
 },
 "nbformat": 4,
 "nbformat_minor": 5
}
